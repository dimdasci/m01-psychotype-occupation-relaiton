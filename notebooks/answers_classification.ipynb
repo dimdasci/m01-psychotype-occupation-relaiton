{
 "cells": [
  {
   "cell_type": "markdown",
   "metadata": {},
   "source": [
    "# Классификация ответов"
   ]
  },
  {
   "cell_type": "markdown",
   "metadata": {},
   "source": [
    "Изучим применение косинусного расстояния для классификации ответов по профессиям. \n",
    "\n",
    "У нас есть данные с признаками ответов, позволяющие выделить не относящиеся к профессиям. Есть нормализованные токены. И есть справочник профессий, также содержащий нормализованные токены.\n",
    "\n",
    "- Выделим ответы, относящиеся только к профессиям;\n",
    "- Загрузим справочник профессий;\n",
    "- Оценим, какое количество профессий можно классфицировать сравнением строк нормализовнных токенов;\n",
    "- Для профессий, которые не получилось классифицировать сравнением, применим поиск подходящей профессии по косинусному сходству:\n",
    "    - преобразуем все нормализованные профессии из справоничка в вектора;\n",
    "    - для каждого нормализованного ответа найдм профессию с максимальным сходством;\n",
    "    - проанализируем результаты."
   ]
  },
  {
   "cell_type": "markdown",
   "metadata": {},
   "source": [
    "## Загрузка библиотек"
   ]
  },
  {
   "cell_type": "code",
   "execution_count": 167,
   "metadata": {},
   "outputs": [],
   "source": [
    "import pandas as pd\n",
    "import numpy as np"
   ]
  },
  {
   "cell_type": "code",
   "execution_count": 168,
   "metadata": {},
   "outputs": [],
   "source": [
    "from gensim.models import fasttext"
   ]
  },
  {
   "cell_type": "code",
   "execution_count": 169,
   "metadata": {},
   "outputs": [],
   "source": [
    "from sklearn.metrics.pairwise import cosine_similarity"
   ]
  },
  {
   "cell_type": "code",
   "execution_count": 170,
   "metadata": {},
   "outputs": [],
   "source": [
    "from tqdm import tqdm"
   ]
  },
  {
   "cell_type": "code",
   "execution_count": 171,
   "metadata": {},
   "outputs": [],
   "source": [
    "import matplotlib.pyplot as plt\n",
    "%matplotlib inline\n",
    "%config InlineBackend.figure_format='retina'"
   ]
  },
  {
   "cell_type": "markdown",
   "metadata": {},
   "source": [
    "## Функции"
   ]
  },
  {
   "cell_type": "code",
   "execution_count": 172,
   "metadata": {},
   "outputs": [],
   "source": [
    "def sentence_2_vec(model: fasttext.FastTextKeyedVectors, sentence: list) -> np.array:\n",
    "    '''Преобразует предложение как массив слов в вектор как сумму векторов каждого слова\n",
    "    '''\n",
    "    vectors = [model.get_vector(word) for word in sentence]\n",
    "\n",
    "    return np.sum(vectors, axis=0)"
   ]
  },
  {
   "cell_type": "markdown",
   "metadata": {},
   "source": [
    "## Загрузка данных"
   ]
  },
  {
   "cell_type": "code",
   "execution_count": 173,
   "metadata": {},
   "outputs": [],
   "source": [
    "answers = pd.read_csv('../datasets/intermediate/df_answers_analysed.csv', low_memory=False)\n",
    "professions = pd.read_csv('../datasets/external/tokens-professions.csv')"
   ]
  },
  {
   "cell_type": "code",
   "execution_count": 174,
   "metadata": {},
   "outputs": [
    {
     "data": {
      "text/plain": [
       "(149700, 142)"
      ]
     },
     "execution_count": 174,
     "metadata": {},
     "output_type": "execute_result"
    }
   ],
   "source": [
    "answers.shape"
   ]
  },
  {
   "cell_type": "code",
   "execution_count": 175,
   "metadata": {},
   "outputs": [
    {
     "data": {
      "text/plain": [
       "(194, 2)"
      ]
     },
     "execution_count": 175,
     "metadata": {},
     "output_type": "execute_result"
    }
   ],
   "source": [
    "professions.shape"
   ]
  },
  {
   "cell_type": "markdown",
   "metadata": {},
   "source": [
    "Выделим из ответов только относящиеся к профессиям и признаки, содержащие ответ и его признаки."
   ]
  },
  {
   "cell_type": "code",
   "execution_count": 176,
   "metadata": {},
   "outputs": [],
   "source": [
    "columns = ['q61', 'corrected', 'tokenized', 'normalized']"
   ]
  },
  {
   "cell_type": "code",
   "execution_count": 177,
   "metadata": {},
   "outputs": [],
   "source": [
    "answers = answers.loc[\n",
    "    ~answers.normalized.isna()\\\n",
    "    & (answers.n_verbs == 0)\\\n",
    "    & (answers.has_negative == 0)\\\n",
    "    & (answers.has_past_future == 0)\\\n",
    "    & (answers.n_out_of_vocab < 4), \n",
    "    columns]"
   ]
  },
  {
   "cell_type": "code",
   "execution_count": 178,
   "metadata": {},
   "outputs": [
    {
     "data": {
      "text/plain": [
       "(79548, 4)"
      ]
     },
     "execution_count": 178,
     "metadata": {},
     "output_type": "execute_result"
    }
   ],
   "source": [
    "answers.shape"
   ]
  },
  {
   "cell_type": "code",
   "execution_count": 179,
   "metadata": {},
   "outputs": [
    {
     "data": {
      "text/html": [
       "<div>\n",
       "<style scoped>\n",
       "    .dataframe tbody tr th:only-of-type {\n",
       "        vertical-align: middle;\n",
       "    }\n",
       "\n",
       "    .dataframe tbody tr th {\n",
       "        vertical-align: top;\n",
       "    }\n",
       "\n",
       "    .dataframe thead th {\n",
       "        text-align: right;\n",
       "    }\n",
       "</style>\n",
       "<table border=\"1\" class=\"dataframe\">\n",
       "  <thead>\n",
       "    <tr style=\"text-align: right;\">\n",
       "      <th></th>\n",
       "      <th>q61</th>\n",
       "      <th>corrected</th>\n",
       "      <th>tokenized</th>\n",
       "      <th>normalized</th>\n",
       "    </tr>\n",
       "  </thead>\n",
       "  <tbody>\n",
       "    <tr>\n",
       "      <th>0</th>\n",
       "      <td>экономист</td>\n",
       "      <td>экономист</td>\n",
       "      <td>экономист</td>\n",
       "      <td>экономист</td>\n",
       "    </tr>\n",
       "    <tr>\n",
       "      <th>2</th>\n",
       "      <td>Учитель</td>\n",
       "      <td>учитель</td>\n",
       "      <td>учитель</td>\n",
       "      <td>учитель</td>\n",
       "    </tr>\n",
       "    <tr>\n",
       "      <th>6</th>\n",
       "      <td>рекламист</td>\n",
       "      <td>рекламы</td>\n",
       "      <td>рекламы</td>\n",
       "      <td>реклама</td>\n",
       "    </tr>\n",
       "    <tr>\n",
       "      <th>7</th>\n",
       "      <td>Руководитель участка</td>\n",
       "      <td>руководитель участка</td>\n",
       "      <td>руководитель участка</td>\n",
       "      <td>руководитель</td>\n",
       "    </tr>\n",
       "    <tr>\n",
       "      <th>11</th>\n",
       "      <td>Повар</td>\n",
       "      <td>повар</td>\n",
       "      <td>повар</td>\n",
       "      <td>повар</td>\n",
       "    </tr>\n",
       "  </tbody>\n",
       "</table>\n",
       "</div>"
      ],
      "text/plain": [
       "                     q61             corrected             tokenized  \\\n",
       "0              экономист             экономист             экономист   \n",
       "2                Учитель               учитель               учитель   \n",
       "6              рекламист               рекламы               рекламы   \n",
       "7   Руководитель участка  руководитель участка  руководитель участка   \n",
       "11                 Повар                 повар                 повар   \n",
       "\n",
       "      normalized  \n",
       "0      экономист  \n",
       "2        учитель  \n",
       "6        реклама  \n",
       "7   руководитель  \n",
       "11         повар  "
      ]
     },
     "execution_count": 179,
     "metadata": {},
     "output_type": "execute_result"
    }
   ],
   "source": [
    "answers.head()"
   ]
  },
  {
   "cell_type": "code",
   "execution_count": 180,
   "metadata": {},
   "outputs": [
    {
     "data": {
      "text/html": [
       "<div>\n",
       "<style scoped>\n",
       "    .dataframe tbody tr th:only-of-type {\n",
       "        vertical-align: middle;\n",
       "    }\n",
       "\n",
       "    .dataframe tbody tr th {\n",
       "        vertical-align: top;\n",
       "    }\n",
       "\n",
       "    .dataframe thead th {\n",
       "        text-align: right;\n",
       "    }\n",
       "</style>\n",
       "<table border=\"1\" class=\"dataframe\">\n",
       "  <thead>\n",
       "    <tr style=\"text-align: right;\">\n",
       "      <th></th>\n",
       "      <th>prof_tokens</th>\n",
       "      <th>prof_names</th>\n",
       "    </tr>\n",
       "  </thead>\n",
       "  <tbody>\n",
       "    <tr>\n",
       "      <th>0</th>\n",
       "      <td>автомойщик</td>\n",
       "      <td>автомойщик</td>\n",
       "    </tr>\n",
       "    <tr>\n",
       "      <th>1</th>\n",
       "      <td>автослесарь</td>\n",
       "      <td>автослесарь</td>\n",
       "    </tr>\n",
       "    <tr>\n",
       "      <th>2</th>\n",
       "      <td>автомеханик</td>\n",
       "      <td>автомеханик</td>\n",
       "    </tr>\n",
       "    <tr>\n",
       "      <th>3</th>\n",
       "      <td>мастер-приёмщик</td>\n",
       "      <td>мастер-приемщик</td>\n",
       "    </tr>\n",
       "    <tr>\n",
       "      <th>4</th>\n",
       "      <td>продажа</td>\n",
       "      <td>менеджер по продажам</td>\n",
       "    </tr>\n",
       "  </tbody>\n",
       "</table>\n",
       "</div>"
      ],
      "text/plain": [
       "       prof_tokens            prof_names\n",
       "0       автомойщик            автомойщик\n",
       "1      автослесарь           автослесарь\n",
       "2      автомеханик           автомеханик\n",
       "3  мастер-приёмщик       мастер-приемщик\n",
       "4          продажа  менеджер по продажам"
      ]
     },
     "execution_count": 180,
     "metadata": {},
     "output_type": "execute_result"
    }
   ],
   "source": [
    "professions.head()"
   ]
  },
  {
   "cell_type": "markdown",
   "metadata": {},
   "source": [
    "## Прямое сравнение"
   ]
  },
  {
   "cell_type": "code",
   "execution_count": 181,
   "metadata": {},
   "outputs": [],
   "source": [
    "answers['score'] = 0\n",
    "answers['matched_token'] = None"
   ]
  },
  {
   "cell_type": "code",
   "execution_count": 182,
   "metadata": {},
   "outputs": [],
   "source": [
    "prof_keys = professions.prof_tokens.to_list()\n",
    "answers['direct_match'] = answers.apply(lambda row: 1 if row.normalized in prof_keys else 0, axis=1)"
   ]
  },
  {
   "cell_type": "code",
   "execution_count": 183,
   "metadata": {},
   "outputs": [
    {
     "data": {
      "text/plain": [
       "0    45747\n",
       "1    33801\n",
       "Name: direct_match, dtype: int64"
      ]
     },
     "execution_count": 183,
     "metadata": {},
     "output_type": "execute_result"
    }
   ],
   "source": [
    "answers.direct_match.value_counts()"
   ]
  },
  {
   "cell_type": "code",
   "execution_count": 184,
   "metadata": {},
   "outputs": [
    {
     "data": {
      "text/html": [
       "<div>\n",
       "<style scoped>\n",
       "    .dataframe tbody tr th:only-of-type {\n",
       "        vertical-align: middle;\n",
       "    }\n",
       "\n",
       "    .dataframe tbody tr th {\n",
       "        vertical-align: top;\n",
       "    }\n",
       "\n",
       "    .dataframe thead th {\n",
       "        text-align: right;\n",
       "    }\n",
       "</style>\n",
       "<table border=\"1\" class=\"dataframe\">\n",
       "  <thead>\n",
       "    <tr style=\"text-align: right;\">\n",
       "      <th></th>\n",
       "      <th>q61</th>\n",
       "      <th>corrected</th>\n",
       "      <th>tokenized</th>\n",
       "      <th>normalized</th>\n",
       "      <th>score</th>\n",
       "      <th>matched_token</th>\n",
       "      <th>direct_match</th>\n",
       "    </tr>\n",
       "  </thead>\n",
       "  <tbody>\n",
       "    <tr>\n",
       "      <th>0</th>\n",
       "      <td>экономист</td>\n",
       "      <td>экономист</td>\n",
       "      <td>экономист</td>\n",
       "      <td>экономист</td>\n",
       "      <td>0</td>\n",
       "      <td>None</td>\n",
       "      <td>1</td>\n",
       "    </tr>\n",
       "    <tr>\n",
       "      <th>2</th>\n",
       "      <td>Учитель</td>\n",
       "      <td>учитель</td>\n",
       "      <td>учитель</td>\n",
       "      <td>учитель</td>\n",
       "      <td>0</td>\n",
       "      <td>None</td>\n",
       "      <td>1</td>\n",
       "    </tr>\n",
       "    <tr>\n",
       "      <th>11</th>\n",
       "      <td>Повар</td>\n",
       "      <td>повар</td>\n",
       "      <td>повар</td>\n",
       "      <td>повар</td>\n",
       "      <td>0</td>\n",
       "      <td>None</td>\n",
       "      <td>1</td>\n",
       "    </tr>\n",
       "    <tr>\n",
       "      <th>17</th>\n",
       "      <td>Видеооператор</td>\n",
       "      <td>видеооператор</td>\n",
       "      <td>видеооператор</td>\n",
       "      <td>видеооператор</td>\n",
       "      <td>0</td>\n",
       "      <td>None</td>\n",
       "      <td>1</td>\n",
       "    </tr>\n",
       "    <tr>\n",
       "      <th>18</th>\n",
       "      <td>преподаватель</td>\n",
       "      <td>преподаватель</td>\n",
       "      <td>преподаватель</td>\n",
       "      <td>преподаватель</td>\n",
       "      <td>0</td>\n",
       "      <td>None</td>\n",
       "      <td>1</td>\n",
       "    </tr>\n",
       "  </tbody>\n",
       "</table>\n",
       "</div>"
      ],
      "text/plain": [
       "              q61      corrected      tokenized     normalized  score  \\\n",
       "0       экономист      экономист      экономист      экономист      0   \n",
       "2         Учитель        учитель        учитель        учитель      0   \n",
       "11          Повар          повар          повар          повар      0   \n",
       "17  Видеооператор  видеооператор  видеооператор  видеооператор      0   \n",
       "18  преподаватель  преподаватель  преподаватель  преподаватель      0   \n",
       "\n",
       "   matched_token  direct_match  \n",
       "0           None             1  \n",
       "2           None             1  \n",
       "11          None             1  \n",
       "17          None             1  \n",
       "18          None             1  "
      ]
     },
     "execution_count": 184,
     "metadata": {},
     "output_type": "execute_result"
    }
   ],
   "source": [
    "answers[answers.direct_match == 1].head()"
   ]
  },
  {
   "cell_type": "code",
   "execution_count": 185,
   "metadata": {},
   "outputs": [
    {
     "data": {
      "text/html": [
       "<div>\n",
       "<style scoped>\n",
       "    .dataframe tbody tr th:only-of-type {\n",
       "        vertical-align: middle;\n",
       "    }\n",
       "\n",
       "    .dataframe tbody tr th {\n",
       "        vertical-align: top;\n",
       "    }\n",
       "\n",
       "    .dataframe thead th {\n",
       "        text-align: right;\n",
       "    }\n",
       "</style>\n",
       "<table border=\"1\" class=\"dataframe\">\n",
       "  <thead>\n",
       "    <tr style=\"text-align: right;\">\n",
       "      <th></th>\n",
       "      <th>q61</th>\n",
       "      <th>corrected</th>\n",
       "      <th>tokenized</th>\n",
       "      <th>normalized</th>\n",
       "      <th>score</th>\n",
       "      <th>matched_token</th>\n",
       "      <th>direct_match</th>\n",
       "    </tr>\n",
       "  </thead>\n",
       "  <tbody>\n",
       "    <tr>\n",
       "      <th>6</th>\n",
       "      <td>рекламист</td>\n",
       "      <td>рекламы</td>\n",
       "      <td>рекламы</td>\n",
       "      <td>реклама</td>\n",
       "      <td>0</td>\n",
       "      <td>None</td>\n",
       "      <td>0</td>\n",
       "    </tr>\n",
       "    <tr>\n",
       "      <th>7</th>\n",
       "      <td>Руководитель участка</td>\n",
       "      <td>руководитель участка</td>\n",
       "      <td>руководитель участка</td>\n",
       "      <td>руководитель</td>\n",
       "      <td>0</td>\n",
       "      <td>None</td>\n",
       "      <td>0</td>\n",
       "    </tr>\n",
       "    <tr>\n",
       "      <th>12</th>\n",
       "      <td>Фитнес</td>\n",
       "      <td>фитнес</td>\n",
       "      <td>фитнес</td>\n",
       "      <td>фитнес</td>\n",
       "      <td>0</td>\n",
       "      <td>None</td>\n",
       "      <td>0</td>\n",
       "    </tr>\n",
       "    <tr>\n",
       "      <th>15</th>\n",
       "      <td>Менеджер регионального отдела продаж</td>\n",
       "      <td>менеджер регионального отдела продаж</td>\n",
       "      <td>менеджер регионального отдела продаж</td>\n",
       "      <td>продажа региональный</td>\n",
       "      <td>0</td>\n",
       "      <td>None</td>\n",
       "      <td>0</td>\n",
       "    </tr>\n",
       "    <tr>\n",
       "      <th>16</th>\n",
       "      <td>инженер</td>\n",
       "      <td>инженер</td>\n",
       "      <td>инженер</td>\n",
       "      <td>инженер</td>\n",
       "      <td>0</td>\n",
       "      <td>None</td>\n",
       "      <td>0</td>\n",
       "    </tr>\n",
       "  </tbody>\n",
       "</table>\n",
       "</div>"
      ],
      "text/plain": [
       "                                     q61  \\\n",
       "6                              рекламист   \n",
       "7                   Руководитель участка   \n",
       "12                               Фитнес    \n",
       "15  Менеджер регионального отдела продаж   \n",
       "16                               инженер   \n",
       "\n",
       "                               corrected  \\\n",
       "6                                рекламы   \n",
       "7                   руководитель участка   \n",
       "12                                фитнес   \n",
       "15  менеджер регионального отдела продаж   \n",
       "16                               инженер   \n",
       "\n",
       "                               tokenized            normalized  score  \\\n",
       "6                                рекламы               реклама      0   \n",
       "7                   руководитель участка          руководитель      0   \n",
       "12                                фитнес                фитнес      0   \n",
       "15  менеджер регионального отдела продаж  продажа региональный      0   \n",
       "16                               инженер               инженер      0   \n",
       "\n",
       "   matched_token  direct_match  \n",
       "6           None             0  \n",
       "7           None             0  \n",
       "12          None             0  \n",
       "15          None             0  \n",
       "16          None             0  "
      ]
     },
     "execution_count": 185,
     "metadata": {},
     "output_type": "execute_result"
    }
   ],
   "source": [
    "answers[answers.direct_match == 0].head()"
   ]
  },
  {
   "cell_type": "code",
   "execution_count": 186,
   "metadata": {},
   "outputs": [],
   "source": [
    "answers.loc[answers.direct_match == 1, 'score'] = 1\n",
    "answers.loc[answers.direct_match == 1, 'matched_token'] = answers.loc[answers.direct_match == 1, 'normalized'] "
   ]
  },
  {
   "cell_type": "markdown",
   "metadata": {},
   "source": [
    "## Сопоставление по косинусному сходству"
   ]
  },
  {
   "cell_type": "markdown",
   "metadata": {},
   "source": [
    "Загрузим модель для векторизации токенов."
   ]
  },
  {
   "cell_type": "code",
   "execution_count": 187,
   "metadata": {},
   "outputs": [],
   "source": [
    "cc_ru_path = '../models/cc_ru_300_kv/cc_ru_300.kv'\n",
    "model = fasttext.FastTextKeyedVectors.load(cc_ru_path)"
   ]
  },
  {
   "cell_type": "markdown",
   "metadata": {},
   "source": [
    "Получим вектора для токенов профессий."
   ]
  },
  {
   "cell_type": "code",
   "execution_count": 188,
   "metadata": {},
   "outputs": [],
   "source": [
    "v_professions = []\n",
    "for prof in prof_keys:\n",
    "    words = prof.split()\n",
    "    v = sentence_2_vec(model=model, sentence=words)\n",
    "    v_professions.append(v)"
   ]
  },
  {
   "cell_type": "code",
   "execution_count": 189,
   "metadata": {},
   "outputs": [
    {
     "data": {
      "text/plain": [
       "(45747, 7)"
      ]
     },
     "execution_count": 189,
     "metadata": {},
     "output_type": "execute_result"
    }
   ],
   "source": [
    "unmatched = answers[answers.direct_match == 0]\n",
    "unmatched.shape"
   ]
  },
  {
   "cell_type": "code",
   "execution_count": 190,
   "metadata": {},
   "outputs": [],
   "source": [
    "def find_similar(what: np.array, where: list) -> tuple:\n",
    "    '''Ищет вектор в where с максимальным косинусным сходством с what \n",
    "    '''\n",
    "    matrix = pd.DataFrame(cosine_similarity([what], where)).T\n",
    "    idx = matrix.idxmax()\n",
    "    score = matrix.max().item()\n",
    "\n",
    "    return idx, score"
   ]
  },
  {
   "cell_type": "code",
   "execution_count": 191,
   "metadata": {},
   "outputs": [
    {
     "name": "stderr",
     "output_type": "stream",
     "text": [
      "100%|██████████| 45747/45747 [04:57<00:00, 153.94it/s]\n"
     ]
    }
   ],
   "source": [
    "for i, row in tqdm(unmatched.iterrows(), total=unmatched.shape[0]):\n",
    "    v = sentence_2_vec(model=model, sentence=row.normalized.split())\n",
    "    idx, score = find_similar(what=v, where=v_professions)\n",
    "    matched_token = professions.prof_tokens[idx].item()\n",
    "    answers.loc[i, 'score'] = score\n",
    "    answers.loc[i, 'matched_token'] = matched_token"
   ]
  },
  {
   "cell_type": "code",
   "execution_count": 192,
   "metadata": {},
   "outputs": [],
   "source": [
    "columns = columns + ['direct_match', 'score', 'matched_token']"
   ]
  },
  {
   "cell_type": "code",
   "execution_count": 193,
   "metadata": {},
   "outputs": [
    {
     "data": {
      "text/html": [
       "<div>\n",
       "<style scoped>\n",
       "    .dataframe tbody tr th:only-of-type {\n",
       "        vertical-align: middle;\n",
       "    }\n",
       "\n",
       "    .dataframe tbody tr th {\n",
       "        vertical-align: top;\n",
       "    }\n",
       "\n",
       "    .dataframe thead th {\n",
       "        text-align: right;\n",
       "    }\n",
       "</style>\n",
       "<table border=\"1\" class=\"dataframe\">\n",
       "  <thead>\n",
       "    <tr style=\"text-align: right;\">\n",
       "      <th></th>\n",
       "      <th>q61</th>\n",
       "      <th>corrected</th>\n",
       "      <th>tokenized</th>\n",
       "      <th>normalized</th>\n",
       "      <th>direct_match</th>\n",
       "      <th>score</th>\n",
       "      <th>matched_token</th>\n",
       "    </tr>\n",
       "  </thead>\n",
       "  <tbody>\n",
       "    <tr>\n",
       "      <th>36168</th>\n",
       "      <td>Водитель</td>\n",
       "      <td>водитель</td>\n",
       "      <td>водитель</td>\n",
       "      <td>водитель</td>\n",
       "      <td>1</td>\n",
       "      <td>1.0</td>\n",
       "      <td>водитель</td>\n",
       "    </tr>\n",
       "    <tr>\n",
       "      <th>68801</th>\n",
       "      <td>Экономист</td>\n",
       "      <td>экономист</td>\n",
       "      <td>экономист</td>\n",
       "      <td>экономист</td>\n",
       "      <td>1</td>\n",
       "      <td>1.0</td>\n",
       "      <td>экономист</td>\n",
       "    </tr>\n",
       "    <tr>\n",
       "      <th>120716</th>\n",
       "      <td>Энергетик</td>\n",
       "      <td>энергетик</td>\n",
       "      <td>энергетик</td>\n",
       "      <td>энергетик</td>\n",
       "      <td>1</td>\n",
       "      <td>1.0</td>\n",
       "      <td>энергетик</td>\n",
       "    </tr>\n",
       "    <tr>\n",
       "      <th>127269</th>\n",
       "      <td>экономист</td>\n",
       "      <td>экономист</td>\n",
       "      <td>экономист</td>\n",
       "      <td>экономист</td>\n",
       "      <td>1</td>\n",
       "      <td>1.0</td>\n",
       "      <td>экономист</td>\n",
       "    </tr>\n",
       "    <tr>\n",
       "      <th>131229</th>\n",
       "      <td>учитель</td>\n",
       "      <td>учитель</td>\n",
       "      <td>учитель</td>\n",
       "      <td>учитель</td>\n",
       "      <td>1</td>\n",
       "      <td>1.0</td>\n",
       "      <td>учитель</td>\n",
       "    </tr>\n",
       "    <tr>\n",
       "      <th>80317</th>\n",
       "      <td>мерчендайзер</td>\n",
       "      <td>мерчандайзер</td>\n",
       "      <td>мерчандайзер</td>\n",
       "      <td>мерчандайзер</td>\n",
       "      <td>1</td>\n",
       "      <td>1.0</td>\n",
       "      <td>мерчандайзер</td>\n",
       "    </tr>\n",
       "    <tr>\n",
       "      <th>8259</th>\n",
       "      <td>Механик</td>\n",
       "      <td>механик</td>\n",
       "      <td>механик</td>\n",
       "      <td>механик</td>\n",
       "      <td>1</td>\n",
       "      <td>1.0</td>\n",
       "      <td>механик</td>\n",
       "    </tr>\n",
       "    <tr>\n",
       "      <th>30909</th>\n",
       "      <td>Официант</td>\n",
       "      <td>официант</td>\n",
       "      <td>официант</td>\n",
       "      <td>официант</td>\n",
       "      <td>1</td>\n",
       "      <td>1.0</td>\n",
       "      <td>официант</td>\n",
       "    </tr>\n",
       "    <tr>\n",
       "      <th>102497</th>\n",
       "      <td>Официант</td>\n",
       "      <td>официант</td>\n",
       "      <td>официант</td>\n",
       "      <td>официант</td>\n",
       "      <td>1</td>\n",
       "      <td>1.0</td>\n",
       "      <td>официант</td>\n",
       "    </tr>\n",
       "    <tr>\n",
       "      <th>136397</th>\n",
       "      <td>Специалисты | Дизайнер</td>\n",
       "      <td>дизайнер</td>\n",
       "      <td>дизайнер</td>\n",
       "      <td>дизайнер</td>\n",
       "      <td>1</td>\n",
       "      <td>1.0</td>\n",
       "      <td>дизайнер</td>\n",
       "    </tr>\n",
       "  </tbody>\n",
       "</table>\n",
       "</div>"
      ],
      "text/plain": [
       "                           q61     corrected     tokenized    normalized  \\\n",
       "36168                Водитель       водитель      водитель      водитель   \n",
       "68801               Экономист      экономист     экономист     экономист   \n",
       "120716               Энергетик     энергетик     энергетик     энергетик   \n",
       "127269               экономист     экономист     экономист     экономист   \n",
       "131229                 учитель       учитель       учитель       учитель   \n",
       "80317             мерчендайзер  мерчандайзер  мерчандайзер  мерчандайзер   \n",
       "8259                   Механик       механик       механик       механик   \n",
       "30909                 Официант      официант      официант      официант   \n",
       "102497                Официант      официант      официант      официант   \n",
       "136397  Специалисты | Дизайнер      дизайнер      дизайнер      дизайнер   \n",
       "\n",
       "        direct_match  score matched_token  \n",
       "36168              1    1.0      водитель  \n",
       "68801              1    1.0     экономист  \n",
       "120716             1    1.0     энергетик  \n",
       "127269             1    1.0     экономист  \n",
       "131229             1    1.0       учитель  \n",
       "80317              1    1.0  мерчандайзер  \n",
       "8259               1    1.0       механик  \n",
       "30909              1    1.0      официант  \n",
       "102497             1    1.0      официант  \n",
       "136397             1    1.0      дизайнер  "
      ]
     },
     "execution_count": 193,
     "metadata": {},
     "output_type": "execute_result"
    }
   ],
   "source": [
    "answers[answers.direct_match == 1][columns].sample(10)"
   ]
  },
  {
   "cell_type": "code",
   "execution_count": 194,
   "metadata": {},
   "outputs": [
    {
     "data": {
      "text/plain": [
       "<AxesSubplot:>"
      ]
     },
     "execution_count": 194,
     "metadata": {},
     "output_type": "execute_result"
    },
    {
     "data": {
      "image/png": "[encoded data removed]",
      "text/plain": [
       "<Figure size 432x288 with 1 Axes>"
      ]
     },
     "metadata": {
      "image/png": {
       "height": 248,
       "width": 388
      },
      "needs_background": "light"
     },
     "output_type": "display_data"
    }
   ],
   "source": [
    "answers[answers.direct_match == 0].score.hist(bins=10)"
   ]
  },
  {
   "cell_type": "code",
   "execution_count": 195,
   "metadata": {},
   "outputs": [
    {
     "data": {
      "text/html": [
       "<div>\n",
       "<style scoped>\n",
       "    .dataframe tbody tr th:only-of-type {\n",
       "        vertical-align: middle;\n",
       "    }\n",
       "\n",
       "    .dataframe tbody tr th {\n",
       "        vertical-align: top;\n",
       "    }\n",
       "\n",
       "    .dataframe thead th {\n",
       "        text-align: right;\n",
       "    }\n",
       "</style>\n",
       "<table border=\"1\" class=\"dataframe\">\n",
       "  <thead>\n",
       "    <tr style=\"text-align: right;\">\n",
       "      <th></th>\n",
       "      <th>q61</th>\n",
       "      <th>corrected</th>\n",
       "      <th>tokenized</th>\n",
       "      <th>normalized</th>\n",
       "      <th>direct_match</th>\n",
       "      <th>score</th>\n",
       "      <th>matched_token</th>\n",
       "    </tr>\n",
       "  </thead>\n",
       "  <tbody>\n",
       "    <tr>\n",
       "      <th>86258</th>\n",
       "      <td>Мастером в салоне красоты</td>\n",
       "      <td>мастером в салоне красоты</td>\n",
       "      <td>мастером салоне красоты</td>\n",
       "      <td>красота мастер салон</td>\n",
       "      <td>0</td>\n",
       "      <td>0.711701</td>\n",
       "      <td>мастер</td>\n",
       "    </tr>\n",
       "    <tr>\n",
       "      <th>88700</th>\n",
       "      <td>маркетолог</td>\n",
       "      <td>маркетинг</td>\n",
       "      <td>маркетинг</td>\n",
       "      <td>маркетинг</td>\n",
       "      <td>0</td>\n",
       "      <td>0.849701</td>\n",
       "      <td>маркетинг реклама</td>\n",
       "    </tr>\n",
       "    <tr>\n",
       "      <th>123243</th>\n",
       "      <td>Консультант по продукту</td>\n",
       "      <td>консультант по продукту</td>\n",
       "      <td>консультант по продукту</td>\n",
       "      <td>консультант продукт</td>\n",
       "      <td>0</td>\n",
       "      <td>0.877281</td>\n",
       "      <td>продукт</td>\n",
       "    </tr>\n",
       "    <tr>\n",
       "      <th>139539</th>\n",
       "      <td>Реклама и Маркетинг | Менеджер по рекламе</td>\n",
       "      <td>менеджер по рекламе</td>\n",
       "      <td>менеджер по рекламе</td>\n",
       "      <td>реклама</td>\n",
       "      <td>0</td>\n",
       "      <td>0.911108</td>\n",
       "      <td>маркетинг реклама</td>\n",
       "    </tr>\n",
       "    <tr>\n",
       "      <th>18336</th>\n",
       "      <td>оператор нефтяных сооружений</td>\n",
       "      <td>оператор нефтяных сооружений</td>\n",
       "      <td>оператор нефтяных сооружений</td>\n",
       "      <td>нефтяной оператор сооружение</td>\n",
       "      <td>0</td>\n",
       "      <td>0.660683</td>\n",
       "      <td>оператор программный станок управление числовой</td>\n",
       "    </tr>\n",
       "    <tr>\n",
       "      <th>5350</th>\n",
       "      <td>Домохозяйка</td>\n",
       "      <td>домохозяйка</td>\n",
       "      <td>домохозяйка</td>\n",
       "      <td>домохозяйка</td>\n",
       "      <td>0</td>\n",
       "      <td>0.580782</td>\n",
       "      <td>уборщица</td>\n",
       "    </tr>\n",
       "    <tr>\n",
       "      <th>122161</th>\n",
       "      <td>Колл-менеджер</td>\n",
       "      <td>колл-менеджер</td>\n",
       "      <td>колл-менеджер</td>\n",
       "      <td>колл-менеджер</td>\n",
       "      <td>0</td>\n",
       "      <td>0.622853</td>\n",
       "      <td>барист</td>\n",
       "    </tr>\n",
       "    <tr>\n",
       "      <th>113267</th>\n",
       "      <td>Модератор</td>\n",
       "      <td>оператор</td>\n",
       "      <td>оператор</td>\n",
       "      <td>оператор</td>\n",
       "      <td>0</td>\n",
       "      <td>0.813350</td>\n",
       "      <td>call-центр оператор</td>\n",
       "    </tr>\n",
       "    <tr>\n",
       "      <th>146520</th>\n",
       "      <td>Руководитель организации | Руководитель (инжен...</td>\n",
       "      <td>руководитель (инженерно-техническая сфера прои...</td>\n",
       "      <td>руководитель инженерно-техническая сфера произ...</td>\n",
       "      <td>инженерно-технический производство руководител...</td>\n",
       "      <td>0</td>\n",
       "      <td>0.623911</td>\n",
       "      <td>начальник производство</td>\n",
       "    </tr>\n",
       "    <tr>\n",
       "      <th>128645</th>\n",
       "      <td>дипломатесса</td>\n",
       "      <td>дипломата</td>\n",
       "      <td>дипломата</td>\n",
       "      <td>дипломат</td>\n",
       "      <td>0</td>\n",
       "      <td>0.591057</td>\n",
       "      <td>журналист</td>\n",
       "    </tr>\n",
       "  </tbody>\n",
       "</table>\n",
       "</div>"
      ],
      "text/plain": [
       "                                                      q61  \\\n",
       "86258                           Мастером в салоне красоты   \n",
       "88700                                         маркетолог    \n",
       "123243                            Консультант по продукту   \n",
       "139539          Реклама и Маркетинг | Менеджер по рекламе   \n",
       "18336                        оператор нефтяных сооружений   \n",
       "5350                                         Домохозяйка    \n",
       "122161                                      Колл-менеджер   \n",
       "113267                                          Модератор   \n",
       "146520  Руководитель организации | Руководитель (инжен...   \n",
       "128645                                       дипломатесса   \n",
       "\n",
       "                                                corrected  \\\n",
       "86258                           мастером в салоне красоты   \n",
       "88700                                           маркетинг   \n",
       "123243                            консультант по продукту   \n",
       "139539                                менеджер по рекламе   \n",
       "18336                        оператор нефтяных сооружений   \n",
       "5350                                          домохозяйка   \n",
       "122161                                      колл-менеджер   \n",
       "113267                                           оператор   \n",
       "146520  руководитель (инженерно-техническая сфера прои...   \n",
       "128645                                          дипломата   \n",
       "\n",
       "                                                tokenized  \\\n",
       "86258                             мастером салоне красоты   \n",
       "88700                                           маркетинг   \n",
       "123243                            консультант по продукту   \n",
       "139539                                менеджер по рекламе   \n",
       "18336                        оператор нефтяных сооружений   \n",
       "5350                                          домохозяйка   \n",
       "122161                                      колл-менеджер   \n",
       "113267                                           оператор   \n",
       "146520  руководитель инженерно-техническая сфера произ...   \n",
       "128645                                          дипломата   \n",
       "\n",
       "                                               normalized  direct_match  \\\n",
       "86258                                красота мастер салон             0   \n",
       "88700                                           маркетинг             0   \n",
       "123243                                консультант продукт             0   \n",
       "139539                                            реклама             0   \n",
       "18336                        нефтяной оператор сооружение             0   \n",
       "5350                                          домохозяйка             0   \n",
       "122161                                      колл-менеджер             0   \n",
       "113267                                           оператор             0   \n",
       "146520  инженерно-технический производство руководител...             0   \n",
       "128645                                           дипломат             0   \n",
       "\n",
       "           score                                    matched_token  \n",
       "86258   0.711701                                           мастер  \n",
       "88700   0.849701                                маркетинг реклама  \n",
       "123243  0.877281                                          продукт  \n",
       "139539  0.911108                                маркетинг реклама  \n",
       "18336   0.660683  оператор программный станок управление числовой  \n",
       "5350    0.580782                                         уборщица  \n",
       "122161  0.622853                                           барист  \n",
       "113267  0.813350                              call-центр оператор  \n",
       "146520  0.623911                           начальник производство  \n",
       "128645  0.591057                                        журналист  "
      ]
     },
     "execution_count": 195,
     "metadata": {},
     "output_type": "execute_result"
    }
   ],
   "source": [
    "answers[(answers.direct_match == 0)][columns].sample(10)"
   ]
  },
  {
   "cell_type": "markdown",
   "metadata": {},
   "source": [
    "Сохраним полученные соответствия для анализа и создания обучабщи выборок."
   ]
  },
  {
   "cell_type": "code",
   "execution_count": 196,
   "metadata": {},
   "outputs": [
    {
     "data": {
      "text/html": [
       "<div>\n",
       "<style scoped>\n",
       "    .dataframe tbody tr th:only-of-type {\n",
       "        vertical-align: middle;\n",
       "    }\n",
       "\n",
       "    .dataframe tbody tr th {\n",
       "        vertical-align: top;\n",
       "    }\n",
       "\n",
       "    .dataframe thead th {\n",
       "        text-align: right;\n",
       "    }\n",
       "</style>\n",
       "<table border=\"1\" class=\"dataframe\">\n",
       "  <thead>\n",
       "    <tr style=\"text-align: right;\">\n",
       "      <th></th>\n",
       "      <th>q61</th>\n",
       "      <th>corrected</th>\n",
       "      <th>tokenized</th>\n",
       "      <th>normalized</th>\n",
       "      <th>score</th>\n",
       "      <th>matched_token</th>\n",
       "      <th>direct_match</th>\n",
       "      <th>prof_names</th>\n",
       "    </tr>\n",
       "  </thead>\n",
       "  <tbody>\n",
       "    <tr>\n",
       "      <th>0</th>\n",
       "      <td>экономист</td>\n",
       "      <td>экономист</td>\n",
       "      <td>экономист</td>\n",
       "      <td>экономист</td>\n",
       "      <td>1.000000</td>\n",
       "      <td>экономист</td>\n",
       "      <td>1</td>\n",
       "      <td>экономист</td>\n",
       "    </tr>\n",
       "    <tr>\n",
       "      <th>1</th>\n",
       "      <td>Учитель</td>\n",
       "      <td>учитель</td>\n",
       "      <td>учитель</td>\n",
       "      <td>учитель</td>\n",
       "      <td>1.000000</td>\n",
       "      <td>учитель</td>\n",
       "      <td>1</td>\n",
       "      <td>учитель</td>\n",
       "    </tr>\n",
       "    <tr>\n",
       "      <th>2</th>\n",
       "      <td>рекламист</td>\n",
       "      <td>рекламы</td>\n",
       "      <td>рекламы</td>\n",
       "      <td>реклама</td>\n",
       "      <td>0.911108</td>\n",
       "      <td>маркетинг реклама</td>\n",
       "      <td>0</td>\n",
       "      <td>менеджер по маркетингу и рекламе</td>\n",
       "    </tr>\n",
       "    <tr>\n",
       "      <th>3</th>\n",
       "      <td>Руководитель участка</td>\n",
       "      <td>руководитель участка</td>\n",
       "      <td>руководитель участка</td>\n",
       "      <td>руководитель</td>\n",
       "      <td>0.809574</td>\n",
       "      <td>директор исполнительный</td>\n",
       "      <td>0</td>\n",
       "      <td>исполнительный директор</td>\n",
       "    </tr>\n",
       "    <tr>\n",
       "      <th>4</th>\n",
       "      <td>Повар</td>\n",
       "      <td>повар</td>\n",
       "      <td>повар</td>\n",
       "      <td>повар</td>\n",
       "      <td>1.000000</td>\n",
       "      <td>повар</td>\n",
       "      <td>1</td>\n",
       "      <td>повар</td>\n",
       "    </tr>\n",
       "  </tbody>\n",
       "</table>\n",
       "</div>"
      ],
      "text/plain": [
       "                    q61             corrected             tokenized  \\\n",
       "0             экономист             экономист             экономист   \n",
       "1               Учитель               учитель               учитель   \n",
       "2             рекламист               рекламы               рекламы   \n",
       "3  Руководитель участка  руководитель участка  руководитель участка   \n",
       "4                 Повар                 повар                 повар   \n",
       "\n",
       "     normalized     score            matched_token  direct_match  \\\n",
       "0     экономист  1.000000                экономист             1   \n",
       "1       учитель  1.000000                  учитель             1   \n",
       "2       реклама  0.911108        маркетинг реклама             0   \n",
       "3  руководитель  0.809574  директор исполнительный             0   \n",
       "4         повар  1.000000                    повар             1   \n",
       "\n",
       "                         prof_names  \n",
       "0                         экономист  \n",
       "1                           учитель  \n",
       "2  менеджер по маркетингу и рекламе  \n",
       "3           исполнительный директор  \n",
       "4                             повар  "
      ]
     },
     "execution_count": 196,
     "metadata": {},
     "output_type": "execute_result"
    }
   ],
   "source": [
    "matched = answers.merge(professions, \n",
    "                        how='left', \n",
    "                        left_on='matched_token', \n",
    "                        right_on='prof_tokens').drop('prof_tokens', axis=1)\n",
    "matched.head()"
   ]
  },
  {
   "cell_type": "code",
   "execution_count": 197,
   "metadata": {},
   "outputs": [],
   "source": [
    "matched.to_csv('../datasets/processed/answer-profession-match.csv', index=False)"
   ]
  },
  {
   "cell_type": "markdown",
   "metadata": {},
   "source": [
    "### Анализ результатов"
   ]
  },
  {
   "cell_type": "code",
   "execution_count": 198,
   "metadata": {},
   "outputs": [],
   "source": [
    "answers.loc[answers.score < .85, 'matched_token'] = answers.loc[answers.score < .9, 'normalized']\n",
    "answers.loc[answers.score < .85, 'prof_names'] = answers.loc[answers.score < .9, 'normalized']"
   ]
  },
  {
   "cell_type": "code",
   "execution_count": 199,
   "metadata": {},
   "outputs": [
    {
     "name": "stdout",
     "output_type": "stream",
     "text": [
      "Прямых совпадений 33801\n",
      "Cоответствий справочнику со score [0.85, 1.0] 7526\n",
      "Cоответствий справочнику со score (0.6, 0.85) 24498\n",
      "Cоответствий справочнику со score [0, 0.6] 13723\n",
      "Всего ответов с профессиями:  79548\n"
     ]
    }
   ],
   "source": [
    "print('Прямых совпадений', matched[matched.direct_match == 1].shape[0])\n",
    "print('Cоответствий справочнику со score [0.85, 1.0]', matched[(matched.direct_match == 0)\\\n",
    "                                                             & (matched.score >= .85)].shape[0])\n",
    "print('Cоответствий справочнику со score (0.6, 0.85)', matched[(matched.direct_match == 0)\\\n",
    "                                                             & (matched.score.between(.6,.85))].shape[0])\n",
    "print('Cоответствий справочнику со score [0, 0.6]', matched[(matched.direct_match == 0)\\\n",
    "                                                             & (matched.score <= .6)].shape[0])\n",
    "print('Всего ответов с профессиями: ', answers.shape[0])\n"
   ]
  },
  {
   "cell_type": "code",
   "execution_count": 204,
   "metadata": {},
   "outputs": [],
   "source": [
    "source_distribution = answers.q61.str.lower().value_counts().reset_index()\n",
    "normailized_ditribution = answers.normalized.value_counts().reset_index()\n",
    "matched_ditribution = answers.matched_token.value_counts().reset_index()\n",
    "limit = matched.matched_token.value_counts().reset_index()\n"
   ]
  },
  {
   "cell_type": "code",
   "execution_count": 209,
   "metadata": {},
   "outputs": [
    {
     "data": {
      "image/png": "[encoded data removed]",
      "text/plain": [
       "<Figure size 1008x432 with 1 Axes>"
      ]
     },
     "metadata": {
      "image/png": {
       "height": 387,
       "width": 842
      },
      "needs_background": "light"
     },
     "output_type": "display_data"
    }
   ],
   "source": [
    "plt.figure(figsize=(14,6))\n",
    "plt.yscale('log')\n",
    "plt.xscale('log')\n",
    "plt.axhline(300, c='r', label='300 объектов')\n",
    "plt.plot(source_distribution.index, source_distribution['q61'], label='Source', lw=3)\n",
    "plt.plot(normailized_ditribution.index, normailized_ditribution['normalized'], label='Normalized', lw=3)\n",
    "plt.plot(matched_ditribution.index, matched_ditribution['matched_token'], label='Matched', lw=3)\n",
    "plt.plot(limit.index, limit['matched_token'], label='Limit', lw=0, marker='o', markersize=5)\n",
    "plt.ylabel('Количество объектов')\n",
    "plt.xlabel('Порядковый номер уникальной фразы')\n",
    "plt.title('Количество уникальных значений профессии'.upper())\n",
    "plt.legend()\n",
    "plt.grid(visible=True)\n",
    "plt.xlim(1, 1e4)\n",
    "plt.show()"
   ]
  },
  {
   "cell_type": "code",
   "execution_count": null,
   "metadata": {},
   "outputs": [],
   "source": []
  }
 ],
 "metadata": {
  "kernelspec": {
   "display_name": "Python 3 (ipykernel)",
   "language": "python",
   "name": "python3"
  },
  "language_info": {
   "codemirror_mode": {
    "name": "ipython",
    "version": 3
   },
   "file_extension": ".py",
   "mimetype": "text/x-python",
   "name": "python",
   "nbconvert_exporter": "python",
   "pygments_lexer": "ipython3",
   "version": "3.9.12"
  },
  "toc": {
   "base_numbering": 1,
   "nav_menu": {},
   "number_sections": true,
   "sideBar": true,
   "skip_h1_title": false,
   "title_cell": "Table of Contents",
   "title_sidebar": "Contents",
   "toc_cell": false,
   "toc_position": {},
   "toc_section_display": true,
   "toc_window_display": false
  },
  "vscode": {
   "interpreter": {
    "hash": "ac6f7dda0a387060d6c296a1a992241c48e02a04b69f2209e2d27f192d44adcf"
   }
  }
 },
 "nbformat": 4,
 "nbformat_minor": 2
}
