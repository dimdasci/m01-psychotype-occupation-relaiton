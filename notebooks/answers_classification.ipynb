{
 "cells": [
  {
   "cell_type": "markdown",
   "metadata": {},
   "source": [
    "# Классификация ответов"
   ]
  },
  {
   "cell_type": "markdown",
   "metadata": {},
   "source": [
    "Изучим применение косинусного расстояния для классификации ответов по профессиям. \n",
    "\n",
    "У нас есть данные с признаками ответов, позволяющие выделить не относящиеся к профессиям. Есть нормализованные токены. И есть справочник профессий, также содержащий нормализованные токены.\n",
    "\n",
    "- Выделим ответы, относящиеся только к профессиям;\n",
    "- Загрузим справочник профессий;\n",
    "- Оценим, какое количество профессий можно классфицировать сравнением строк нормализовнных токенов;\n",
    "- Для профессий, которые не получилось классифицировать сравнением, применим поиск подходящей профессии по косинусному сходству:\n",
    "    - преобразуем все нормализованные профессии из справоничка в вектора;\n",
    "    - для каждого нормализованного ответа найдм профессию с максимальным сходством;\n",
    "    - проанализируем результаты."
   ]
  },
  {
   "cell_type": "markdown",
   "metadata": {},
   "source": [
    "## Загрузка библиотек"
   ]
  },
  {
   "cell_type": "code",
   "execution_count": 1,
   "metadata": {},
   "outputs": [],
   "source": [
    "import pandas as pd\n",
    "import numpy as np"
   ]
  },
  {
   "cell_type": "code",
   "execution_count": 2,
   "metadata": {},
   "outputs": [],
   "source": [
    "from gensim.models import fasttext"
   ]
  },
  {
   "cell_type": "code",
   "execution_count": 3,
   "metadata": {},
   "outputs": [],
   "source": [
    "from sklearn.metrics.pairwise import cosine_similarity"
   ]
  },
  {
   "cell_type": "code",
   "execution_count": 4,
   "metadata": {},
   "outputs": [],
   "source": [
    "from tqdm import tqdm"
   ]
  },
  {
   "cell_type": "code",
   "execution_count": 5,
   "metadata": {},
   "outputs": [],
   "source": [
    "import matplotlib.pyplot as plt\n",
    "%matplotlib inline\n",
    "%config InlineBackend.figure_format='retina'"
   ]
  },
  {
   "cell_type": "markdown",
   "metadata": {},
   "source": [
    "## Функции"
   ]
  },
  {
   "cell_type": "code",
   "execution_count": 6,
   "metadata": {},
   "outputs": [],
   "source": [
    "def sentence_2_vec(model: fasttext.FastTextKeyedVectors, sentence: list) -> np.array:\n",
    "    '''Преобразует предложение как массив слов в вектор как сумму векторов каждого слова\n",
    "    '''\n",
    "    vectors = [model.get_vector(word) for word in sentence]\n",
    "\n",
    "    return np.sum(vectors, axis=0)"
   ]
  },
  {
   "cell_type": "markdown",
   "metadata": {},
   "source": [
    "## Загрузка данных"
   ]
  },
  {
   "cell_type": "code",
   "execution_count": 7,
   "metadata": {},
   "outputs": [],
   "source": [
    "answers = pd.read_csv('../datasets/intermediate/df_answers_analysed.csv', low_memory=False)\n",
    "professions = pd.read_csv('../datasets/external/tokens-professions.csv')"
   ]
  },
  {
   "cell_type": "code",
   "execution_count": 8,
   "metadata": {},
   "outputs": [
    {
     "data": {
      "text/plain": [
       "(149700, 142)"
      ]
     },
     "execution_count": 8,
     "metadata": {},
     "output_type": "execute_result"
    }
   ],
   "source": [
    "answers.shape"
   ]
  },
  {
   "cell_type": "code",
   "execution_count": 9,
   "metadata": {},
   "outputs": [
    {
     "data": {
      "text/plain": [
       "(194, 2)"
      ]
     },
     "execution_count": 9,
     "metadata": {},
     "output_type": "execute_result"
    }
   ],
   "source": [
    "professions.shape"
   ]
  },
  {
   "cell_type": "markdown",
   "metadata": {},
   "source": [
    "Выделим из ответов только относящиеся к профессиям и признаки, содержащие ответ и его признаки."
   ]
  },
  {
   "cell_type": "code",
   "execution_count": 10,
   "metadata": {},
   "outputs": [],
   "source": [
    "columns = ['q61', 'corrected', 'tokenized', 'normalized']"
   ]
  },
  {
   "cell_type": "code",
   "execution_count": 11,
   "metadata": {},
   "outputs": [],
   "source": [
    "answers = answers.loc[\n",
    "    ~answers.normalized.isna()\\\n",
    "    & (answers.n_verbs == 0)\\\n",
    "    & (answers.has_negative == 0)\\\n",
    "    & (answers.has_past_future == 0)\\\n",
    "    & (answers.n_out_of_vocab < 4), \n",
    "    columns]"
   ]
  },
  {
   "cell_type": "code",
   "execution_count": 12,
   "metadata": {},
   "outputs": [
    {
     "data": {
      "text/plain": [
       "(79548, 4)"
      ]
     },
     "execution_count": 12,
     "metadata": {},
     "output_type": "execute_result"
    }
   ],
   "source": [
    "answers.shape"
   ]
  },
  {
   "cell_type": "code",
   "execution_count": 13,
   "metadata": {},
   "outputs": [
    {
     "data": {
      "text/html": [
       "<div>\n",
       "<style scoped>\n",
       "    .dataframe tbody tr th:only-of-type {\n",
       "        vertical-align: middle;\n",
       "    }\n",
       "\n",
       "    .dataframe tbody tr th {\n",
       "        vertical-align: top;\n",
       "    }\n",
       "\n",
       "    .dataframe thead th {\n",
       "        text-align: right;\n",
       "    }\n",
       "</style>\n",
       "<table border=\"1\" class=\"dataframe\">\n",
       "  <thead>\n",
       "    <tr style=\"text-align: right;\">\n",
       "      <th></th>\n",
       "      <th>q61</th>\n",
       "      <th>corrected</th>\n",
       "      <th>tokenized</th>\n",
       "      <th>normalized</th>\n",
       "    </tr>\n",
       "  </thead>\n",
       "  <tbody>\n",
       "    <tr>\n",
       "      <th>0</th>\n",
       "      <td>экономист</td>\n",
       "      <td>экономист</td>\n",
       "      <td>экономист</td>\n",
       "      <td>экономист</td>\n",
       "    </tr>\n",
       "    <tr>\n",
       "      <th>2</th>\n",
       "      <td>Учитель</td>\n",
       "      <td>учитель</td>\n",
       "      <td>учитель</td>\n",
       "      <td>учитель</td>\n",
       "    </tr>\n",
       "    <tr>\n",
       "      <th>6</th>\n",
       "      <td>рекламист</td>\n",
       "      <td>рекламы</td>\n",
       "      <td>рекламы</td>\n",
       "      <td>реклама</td>\n",
       "    </tr>\n",
       "    <tr>\n",
       "      <th>7</th>\n",
       "      <td>Руководитель участка</td>\n",
       "      <td>руководитель участка</td>\n",
       "      <td>руководитель участка</td>\n",
       "      <td>руководитель</td>\n",
       "    </tr>\n",
       "    <tr>\n",
       "      <th>11</th>\n",
       "      <td>Повар</td>\n",
       "      <td>повар</td>\n",
       "      <td>повар</td>\n",
       "      <td>повар</td>\n",
       "    </tr>\n",
       "  </tbody>\n",
       "</table>\n",
       "</div>"
      ],
      "text/plain": [
       "                     q61             corrected             tokenized  \\\n",
       "0              экономист             экономист             экономист   \n",
       "2                Учитель               учитель               учитель   \n",
       "6              рекламист               рекламы               рекламы   \n",
       "7   Руководитель участка  руководитель участка  руководитель участка   \n",
       "11                 Повар                 повар                 повар   \n",
       "\n",
       "      normalized  \n",
       "0      экономист  \n",
       "2        учитель  \n",
       "6        реклама  \n",
       "7   руководитель  \n",
       "11         повар  "
      ]
     },
     "execution_count": 13,
     "metadata": {},
     "output_type": "execute_result"
    }
   ],
   "source": [
    "answers.head()"
   ]
  },
  {
   "cell_type": "code",
   "execution_count": 14,
   "metadata": {},
   "outputs": [
    {
     "data": {
      "text/html": [
       "<div>\n",
       "<style scoped>\n",
       "    .dataframe tbody tr th:only-of-type {\n",
       "        vertical-align: middle;\n",
       "    }\n",
       "\n",
       "    .dataframe tbody tr th {\n",
       "        vertical-align: top;\n",
       "    }\n",
       "\n",
       "    .dataframe thead th {\n",
       "        text-align: right;\n",
       "    }\n",
       "</style>\n",
       "<table border=\"1\" class=\"dataframe\">\n",
       "  <thead>\n",
       "    <tr style=\"text-align: right;\">\n",
       "      <th></th>\n",
       "      <th>prof_tokens</th>\n",
       "      <th>prof_names</th>\n",
       "    </tr>\n",
       "  </thead>\n",
       "  <tbody>\n",
       "    <tr>\n",
       "      <th>0</th>\n",
       "      <td>автомойщик</td>\n",
       "      <td>автомойщик</td>\n",
       "    </tr>\n",
       "    <tr>\n",
       "      <th>1</th>\n",
       "      <td>автослесарь</td>\n",
       "      <td>автослесарь</td>\n",
       "    </tr>\n",
       "    <tr>\n",
       "      <th>2</th>\n",
       "      <td>автомеханик</td>\n",
       "      <td>автомеханик</td>\n",
       "    </tr>\n",
       "    <tr>\n",
       "      <th>3</th>\n",
       "      <td>мастер-приёмщик</td>\n",
       "      <td>мастер-приемщик</td>\n",
       "    </tr>\n",
       "    <tr>\n",
       "      <th>4</th>\n",
       "      <td>продажа</td>\n",
       "      <td>менеджер по продажам</td>\n",
       "    </tr>\n",
       "  </tbody>\n",
       "</table>\n",
       "</div>"
      ],
      "text/plain": [
       "       prof_tokens            prof_names\n",
       "0       автомойщик            автомойщик\n",
       "1      автослесарь           автослесарь\n",
       "2      автомеханик           автомеханик\n",
       "3  мастер-приёмщик       мастер-приемщик\n",
       "4          продажа  менеджер по продажам"
      ]
     },
     "execution_count": 14,
     "metadata": {},
     "output_type": "execute_result"
    }
   ],
   "source": [
    "professions.head()"
   ]
  },
  {
   "cell_type": "markdown",
   "metadata": {},
   "source": [
    "## Прямое сравнение"
   ]
  },
  {
   "cell_type": "code",
   "execution_count": 15,
   "metadata": {},
   "outputs": [],
   "source": [
    "answers['score'] = 0\n",
    "answers['matched_token'] = None"
   ]
  },
  {
   "cell_type": "code",
   "execution_count": 16,
   "metadata": {},
   "outputs": [],
   "source": [
    "prof_keys = professions.prof_tokens.to_list()\n",
    "answers['direct_match'] = answers.apply(lambda row: 1 if row.normalized in prof_keys else 0, axis=1)"
   ]
  },
  {
   "cell_type": "code",
   "execution_count": 17,
   "metadata": {},
   "outputs": [
    {
     "data": {
      "text/plain": [
       "0    45747\n",
       "1    33801\n",
       "Name: direct_match, dtype: int64"
      ]
     },
     "execution_count": 17,
     "metadata": {},
     "output_type": "execute_result"
    }
   ],
   "source": [
    "answers.direct_match.value_counts()"
   ]
  },
  {
   "cell_type": "code",
   "execution_count": 18,
   "metadata": {},
   "outputs": [
    {
     "data": {
      "text/html": [
       "<div>\n",
       "<style scoped>\n",
       "    .dataframe tbody tr th:only-of-type {\n",
       "        vertical-align: middle;\n",
       "    }\n",
       "\n",
       "    .dataframe tbody tr th {\n",
       "        vertical-align: top;\n",
       "    }\n",
       "\n",
       "    .dataframe thead th {\n",
       "        text-align: right;\n",
       "    }\n",
       "</style>\n",
       "<table border=\"1\" class=\"dataframe\">\n",
       "  <thead>\n",
       "    <tr style=\"text-align: right;\">\n",
       "      <th></th>\n",
       "      <th>q61</th>\n",
       "      <th>corrected</th>\n",
       "      <th>tokenized</th>\n",
       "      <th>normalized</th>\n",
       "      <th>score</th>\n",
       "      <th>matched_token</th>\n",
       "      <th>direct_match</th>\n",
       "    </tr>\n",
       "  </thead>\n",
       "  <tbody>\n",
       "    <tr>\n",
       "      <th>0</th>\n",
       "      <td>экономист</td>\n",
       "      <td>экономист</td>\n",
       "      <td>экономист</td>\n",
       "      <td>экономист</td>\n",
       "      <td>0</td>\n",
       "      <td>None</td>\n",
       "      <td>1</td>\n",
       "    </tr>\n",
       "    <tr>\n",
       "      <th>2</th>\n",
       "      <td>Учитель</td>\n",
       "      <td>учитель</td>\n",
       "      <td>учитель</td>\n",
       "      <td>учитель</td>\n",
       "      <td>0</td>\n",
       "      <td>None</td>\n",
       "      <td>1</td>\n",
       "    </tr>\n",
       "    <tr>\n",
       "      <th>11</th>\n",
       "      <td>Повар</td>\n",
       "      <td>повар</td>\n",
       "      <td>повар</td>\n",
       "      <td>повар</td>\n",
       "      <td>0</td>\n",
       "      <td>None</td>\n",
       "      <td>1</td>\n",
       "    </tr>\n",
       "    <tr>\n",
       "      <th>17</th>\n",
       "      <td>Видеооператор</td>\n",
       "      <td>видеооператор</td>\n",
       "      <td>видеооператор</td>\n",
       "      <td>видеооператор</td>\n",
       "      <td>0</td>\n",
       "      <td>None</td>\n",
       "      <td>1</td>\n",
       "    </tr>\n",
       "    <tr>\n",
       "      <th>18</th>\n",
       "      <td>преподаватель</td>\n",
       "      <td>преподаватель</td>\n",
       "      <td>преподаватель</td>\n",
       "      <td>преподаватель</td>\n",
       "      <td>0</td>\n",
       "      <td>None</td>\n",
       "      <td>1</td>\n",
       "    </tr>\n",
       "  </tbody>\n",
       "</table>\n",
       "</div>"
      ],
      "text/plain": [
       "              q61      corrected      tokenized     normalized  score  \\\n",
       "0       экономист      экономист      экономист      экономист      0   \n",
       "2         Учитель        учитель        учитель        учитель      0   \n",
       "11          Повар          повар          повар          повар      0   \n",
       "17  Видеооператор  видеооператор  видеооператор  видеооператор      0   \n",
       "18  преподаватель  преподаватель  преподаватель  преподаватель      0   \n",
       "\n",
       "   matched_token  direct_match  \n",
       "0           None             1  \n",
       "2           None             1  \n",
       "11          None             1  \n",
       "17          None             1  \n",
       "18          None             1  "
      ]
     },
     "execution_count": 18,
     "metadata": {},
     "output_type": "execute_result"
    }
   ],
   "source": [
    "answers[answers.direct_match == 1].head()"
   ]
  },
  {
   "cell_type": "code",
   "execution_count": 19,
   "metadata": {},
   "outputs": [
    {
     "data": {
      "text/html": [
       "<div>\n",
       "<style scoped>\n",
       "    .dataframe tbody tr th:only-of-type {\n",
       "        vertical-align: middle;\n",
       "    }\n",
       "\n",
       "    .dataframe tbody tr th {\n",
       "        vertical-align: top;\n",
       "    }\n",
       "\n",
       "    .dataframe thead th {\n",
       "        text-align: right;\n",
       "    }\n",
       "</style>\n",
       "<table border=\"1\" class=\"dataframe\">\n",
       "  <thead>\n",
       "    <tr style=\"text-align: right;\">\n",
       "      <th></th>\n",
       "      <th>q61</th>\n",
       "      <th>corrected</th>\n",
       "      <th>tokenized</th>\n",
       "      <th>normalized</th>\n",
       "      <th>score</th>\n",
       "      <th>matched_token</th>\n",
       "      <th>direct_match</th>\n",
       "    </tr>\n",
       "  </thead>\n",
       "  <tbody>\n",
       "    <tr>\n",
       "      <th>6</th>\n",
       "      <td>рекламист</td>\n",
       "      <td>рекламы</td>\n",
       "      <td>рекламы</td>\n",
       "      <td>реклама</td>\n",
       "      <td>0</td>\n",
       "      <td>None</td>\n",
       "      <td>0</td>\n",
       "    </tr>\n",
       "    <tr>\n",
       "      <th>7</th>\n",
       "      <td>Руководитель участка</td>\n",
       "      <td>руководитель участка</td>\n",
       "      <td>руководитель участка</td>\n",
       "      <td>руководитель</td>\n",
       "      <td>0</td>\n",
       "      <td>None</td>\n",
       "      <td>0</td>\n",
       "    </tr>\n",
       "    <tr>\n",
       "      <th>12</th>\n",
       "      <td>Фитнес</td>\n",
       "      <td>фитнес</td>\n",
       "      <td>фитнес</td>\n",
       "      <td>фитнес</td>\n",
       "      <td>0</td>\n",
       "      <td>None</td>\n",
       "      <td>0</td>\n",
       "    </tr>\n",
       "    <tr>\n",
       "      <th>15</th>\n",
       "      <td>Менеджер регионального отдела продаж</td>\n",
       "      <td>менеджер регионального отдела продаж</td>\n",
       "      <td>менеджер регионального отдела продаж</td>\n",
       "      <td>продажа региональный</td>\n",
       "      <td>0</td>\n",
       "      <td>None</td>\n",
       "      <td>0</td>\n",
       "    </tr>\n",
       "    <tr>\n",
       "      <th>16</th>\n",
       "      <td>инженер</td>\n",
       "      <td>инженер</td>\n",
       "      <td>инженер</td>\n",
       "      <td>инженер</td>\n",
       "      <td>0</td>\n",
       "      <td>None</td>\n",
       "      <td>0</td>\n",
       "    </tr>\n",
       "  </tbody>\n",
       "</table>\n",
       "</div>"
      ],
      "text/plain": [
       "                                     q61  \\\n",
       "6                              рекламист   \n",
       "7                   Руководитель участка   \n",
       "12                               Фитнес    \n",
       "15  Менеджер регионального отдела продаж   \n",
       "16                               инженер   \n",
       "\n",
       "                               corrected  \\\n",
       "6                                рекламы   \n",
       "7                   руководитель участка   \n",
       "12                                фитнес   \n",
       "15  менеджер регионального отдела продаж   \n",
       "16                               инженер   \n",
       "\n",
       "                               tokenized            normalized  score  \\\n",
       "6                                рекламы               реклама      0   \n",
       "7                   руководитель участка          руководитель      0   \n",
       "12                                фитнес                фитнес      0   \n",
       "15  менеджер регионального отдела продаж  продажа региональный      0   \n",
       "16                               инженер               инженер      0   \n",
       "\n",
       "   matched_token  direct_match  \n",
       "6           None             0  \n",
       "7           None             0  \n",
       "12          None             0  \n",
       "15          None             0  \n",
       "16          None             0  "
      ]
     },
     "execution_count": 19,
     "metadata": {},
     "output_type": "execute_result"
    }
   ],
   "source": [
    "answers[answers.direct_match == 0].head()"
   ]
  },
  {
   "cell_type": "code",
   "execution_count": 20,
   "metadata": {},
   "outputs": [],
   "source": [
    "answers.loc[answers.direct_match == 1, 'score'] = 1\n",
    "answers.loc[answers.direct_match == 1, 'matched_token'] = answers.loc[answers.direct_match == 1, 'normalized'] "
   ]
  },
  {
   "cell_type": "markdown",
   "metadata": {},
   "source": [
    "## Сопоставление по косинусному сходству"
   ]
  },
  {
   "cell_type": "markdown",
   "metadata": {},
   "source": [
    "Загрузим модель для векторизации токенов."
   ]
  },
  {
   "cell_type": "code",
   "execution_count": 21,
   "metadata": {},
   "outputs": [],
   "source": [
    "cc_ru_path = '../models/cc_ru_300_kv/cc_ru_300.kv'\n",
    "model = fasttext.FastTextKeyedVectors.load(cc_ru_path)"
   ]
  },
  {
   "cell_type": "markdown",
   "metadata": {},
   "source": [
    "Получим вектора для токенов профессий."
   ]
  },
  {
   "cell_type": "code",
   "execution_count": 22,
   "metadata": {},
   "outputs": [],
   "source": [
    "v_professions = []\n",
    "for prof in prof_keys:\n",
    "    words = prof.split()\n",
    "    v = sentence_2_vec(model=model, sentence=words)\n",
    "    v_professions.append(v)"
   ]
  },
  {
   "cell_type": "code",
   "execution_count": 23,
   "metadata": {},
   "outputs": [
    {
     "data": {
      "text/plain": [
       "(45747, 7)"
      ]
     },
     "execution_count": 23,
     "metadata": {},
     "output_type": "execute_result"
    }
   ],
   "source": [
    "unmatched = answers[answers.direct_match == 0]\n",
    "unmatched.shape"
   ]
  },
  {
   "cell_type": "code",
   "execution_count": 24,
   "metadata": {},
   "outputs": [],
   "source": [
    "def find_similar(what: np.array, where: list) -> tuple:\n",
    "    '''Ищет вектор в where с максимальным косинусным сходством с what \n",
    "    '''\n",
    "    matrix = pd.DataFrame(cosine_similarity([what], where)).T\n",
    "    idx = matrix.idxmax()\n",
    "    score = matrix.max().item()\n",
    "\n",
    "    return idx, score"
   ]
  },
  {
   "cell_type": "code",
   "execution_count": 25,
   "metadata": {},
   "outputs": [
    {
     "name": "stderr",
     "output_type": "stream",
     "text": [
      "100%|██████████| 45747/45747 [03:08<00:00, 243.28it/s]\n"
     ]
    }
   ],
   "source": [
    "for i, row in tqdm(unmatched.iterrows(), total=unmatched.shape[0]):\n",
    "    v = sentence_2_vec(model=model, sentence=row.normalized.split())\n",
    "    idx, score = find_similar(what=v, where=v_professions)\n",
    "    matched_token = professions.prof_tokens[idx].item()\n",
    "    answers.loc[i, 'score'] = score\n",
    "    answers.loc[i, 'matched_token'] = matched_token"
   ]
  },
  {
   "cell_type": "code",
   "execution_count": 26,
   "metadata": {},
   "outputs": [],
   "source": [
    "columns = columns + ['direct_match', 'score', 'matched_token']"
   ]
  },
  {
   "cell_type": "code",
   "execution_count": 27,
   "metadata": {},
   "outputs": [
    {
     "data": {
      "text/html": [
       "<div>\n",
       "<style scoped>\n",
       "    .dataframe tbody tr th:only-of-type {\n",
       "        vertical-align: middle;\n",
       "    }\n",
       "\n",
       "    .dataframe tbody tr th {\n",
       "        vertical-align: top;\n",
       "    }\n",
       "\n",
       "    .dataframe thead th {\n",
       "        text-align: right;\n",
       "    }\n",
       "</style>\n",
       "<table border=\"1\" class=\"dataframe\">\n",
       "  <thead>\n",
       "    <tr style=\"text-align: right;\">\n",
       "      <th></th>\n",
       "      <th>q61</th>\n",
       "      <th>corrected</th>\n",
       "      <th>tokenized</th>\n",
       "      <th>normalized</th>\n",
       "      <th>direct_match</th>\n",
       "      <th>score</th>\n",
       "      <th>matched_token</th>\n",
       "    </tr>\n",
       "  </thead>\n",
       "  <tbody>\n",
       "    <tr>\n",
       "      <th>110168</th>\n",
       "      <td>Менеджер по продажам</td>\n",
       "      <td>менеджер по продажам</td>\n",
       "      <td>менеджер по продажам</td>\n",
       "      <td>продажа</td>\n",
       "      <td>1</td>\n",
       "      <td>1.0</td>\n",
       "      <td>продажа</td>\n",
       "    </tr>\n",
       "    <tr>\n",
       "      <th>84615</th>\n",
       "      <td>Психолог</td>\n",
       "      <td>психолог</td>\n",
       "      <td>психолог</td>\n",
       "      <td>психолог</td>\n",
       "      <td>1</td>\n",
       "      <td>1.0</td>\n",
       "      <td>психолог</td>\n",
       "    </tr>\n",
       "    <tr>\n",
       "      <th>24947</th>\n",
       "      <td>Повар</td>\n",
       "      <td>повар</td>\n",
       "      <td>повар</td>\n",
       "      <td>повар</td>\n",
       "      <td>1</td>\n",
       "      <td>1.0</td>\n",
       "      <td>повар</td>\n",
       "    </tr>\n",
       "    <tr>\n",
       "      <th>66614</th>\n",
       "      <td>Военнослужащий</td>\n",
       "      <td>военнослужащий</td>\n",
       "      <td>военнослужащий</td>\n",
       "      <td>военнослужащий</td>\n",
       "      <td>1</td>\n",
       "      <td>1.0</td>\n",
       "      <td>военнослужащий</td>\n",
       "    </tr>\n",
       "    <tr>\n",
       "      <th>30572</th>\n",
       "      <td>Курьер</td>\n",
       "      <td>курьер</td>\n",
       "      <td>курьер</td>\n",
       "      <td>курьер</td>\n",
       "      <td>1</td>\n",
       "      <td>1.0</td>\n",
       "      <td>курьер</td>\n",
       "    </tr>\n",
       "    <tr>\n",
       "      <th>3598</th>\n",
       "      <td>программист</td>\n",
       "      <td>программист</td>\n",
       "      <td>программист</td>\n",
       "      <td>программист</td>\n",
       "      <td>1</td>\n",
       "      <td>1.0</td>\n",
       "      <td>программист</td>\n",
       "    </tr>\n",
       "    <tr>\n",
       "      <th>132452</th>\n",
       "      <td>учитель</td>\n",
       "      <td>учитель</td>\n",
       "      <td>учитель</td>\n",
       "      <td>учитель</td>\n",
       "      <td>1</td>\n",
       "      <td>1.0</td>\n",
       "      <td>учитель</td>\n",
       "    </tr>\n",
       "    <tr>\n",
       "      <th>137551</th>\n",
       "      <td>Персонал и обучение | HR-менеджер</td>\n",
       "      <td>менеджер персонала</td>\n",
       "      <td>менеджер персонала</td>\n",
       "      <td>персонал</td>\n",
       "      <td>1</td>\n",
       "      <td>1.0</td>\n",
       "      <td>персонал</td>\n",
       "    </tr>\n",
       "    <tr>\n",
       "      <th>123245</th>\n",
       "      <td>Психолог</td>\n",
       "      <td>психолог</td>\n",
       "      <td>психолог</td>\n",
       "      <td>психолог</td>\n",
       "      <td>1</td>\n",
       "      <td>1.0</td>\n",
       "      <td>психолог</td>\n",
       "    </tr>\n",
       "    <tr>\n",
       "      <th>85630</th>\n",
       "      <td>Художником</td>\n",
       "      <td>художником</td>\n",
       "      <td>художником</td>\n",
       "      <td>художник</td>\n",
       "      <td>1</td>\n",
       "      <td>1.0</td>\n",
       "      <td>художник</td>\n",
       "    </tr>\n",
       "  </tbody>\n",
       "</table>\n",
       "</div>"
      ],
      "text/plain": [
       "                                      q61             corrected  \\\n",
       "110168               Менеджер по продажам  менеджер по продажам   \n",
       "84615                            Психолог              психолог   \n",
       "24947                               Повар                 повар   \n",
       "66614                     Военнослужащий         военнослужащий   \n",
       "30572                              Курьер                курьер   \n",
       "3598                          программист           программист   \n",
       "132452                            учитель               учитель   \n",
       "137551  Персонал и обучение | HR-менеджер    менеджер персонала   \n",
       "123245                           Психолог              психолог   \n",
       "85630                          Художником            художником   \n",
       "\n",
       "                   tokenized      normalized  direct_match  score  \\\n",
       "110168  менеджер по продажам         продажа             1    1.0   \n",
       "84615               психолог        психолог             1    1.0   \n",
       "24947                  повар           повар             1    1.0   \n",
       "66614         военнослужащий  военнослужащий             1    1.0   \n",
       "30572                 курьер          курьер             1    1.0   \n",
       "3598             программист     программист             1    1.0   \n",
       "132452               учитель         учитель             1    1.0   \n",
       "137551    менеджер персонала        персонал             1    1.0   \n",
       "123245              психолог        психолог             1    1.0   \n",
       "85630             художником        художник             1    1.0   \n",
       "\n",
       "         matched_token  \n",
       "110168         продажа  \n",
       "84615         психолог  \n",
       "24947            повар  \n",
       "66614   военнослужащий  \n",
       "30572           курьер  \n",
       "3598       программист  \n",
       "132452         учитель  \n",
       "137551        персонал  \n",
       "123245        психолог  \n",
       "85630         художник  "
      ]
     },
     "execution_count": 27,
     "metadata": {},
     "output_type": "execute_result"
    }
   ],
   "source": [
    "answers[answers.direct_match == 1][columns].sample(10)"
   ]
  },
  {
   "cell_type": "code",
   "execution_count": 28,
   "metadata": {},
   "outputs": [
    {
     "data": {
      "text/plain": [
       "<AxesSubplot:>"
      ]
     },
     "execution_count": 28,
     "metadata": {},
     "output_type": "execute_result"
    },
    {
     "data": {
      "image/png": "[encoded data removed]",
      "text/plain": [
       "<Figure size 432x288 with 1 Axes>"
      ]
     },
     "metadata": {
      "image/png": {
       "height": 248,
       "width": 388
      },
      "needs_background": "light"
     },
     "output_type": "display_data"
    }
   ],
   "source": [
    "answers[answers.direct_match == 0].score.hist(bins=10)"
   ]
  },
  {
   "cell_type": "code",
   "execution_count": 29,
   "metadata": {},
   "outputs": [
    {
     "data": {
      "text/html": [
       "<div>\n",
       "<style scoped>\n",
       "    .dataframe tbody tr th:only-of-type {\n",
       "        vertical-align: middle;\n",
       "    }\n",
       "\n",
       "    .dataframe tbody tr th {\n",
       "        vertical-align: top;\n",
       "    }\n",
       "\n",
       "    .dataframe thead th {\n",
       "        text-align: right;\n",
       "    }\n",
       "</style>\n",
       "<table border=\"1\" class=\"dataframe\">\n",
       "  <thead>\n",
       "    <tr style=\"text-align: right;\">\n",
       "      <th></th>\n",
       "      <th>q61</th>\n",
       "      <th>corrected</th>\n",
       "      <th>tokenized</th>\n",
       "      <th>normalized</th>\n",
       "      <th>direct_match</th>\n",
       "      <th>score</th>\n",
       "      <th>matched_token</th>\n",
       "    </tr>\n",
       "  </thead>\n",
       "  <tbody>\n",
       "    <tr>\n",
       "      <th>145576</th>\n",
       "      <td>Администрирование | Секретарь-референт</td>\n",
       "      <td>секретарь-референт</td>\n",
       "      <td>секретарь-референт</td>\n",
       "      <td>секретарь-референт</td>\n",
       "      <td>0</td>\n",
       "      <td>0.678314</td>\n",
       "      <td>офис-менеджер</td>\n",
       "    </tr>\n",
       "    <tr>\n",
       "      <th>109833</th>\n",
       "      <td>танцор</td>\n",
       "      <td>танцор</td>\n",
       "      <td>танцор</td>\n",
       "      <td>танцор</td>\n",
       "      <td>0</td>\n",
       "      <td>0.635488</td>\n",
       "      <td>артист</td>\n",
       "    </tr>\n",
       "    <tr>\n",
       "      <th>97238</th>\n",
       "      <td>Костиком</td>\n",
       "      <td>мостиком</td>\n",
       "      <td>мостиком</td>\n",
       "      <td>мостик</td>\n",
       "      <td>0</td>\n",
       "      <td>0.362631</td>\n",
       "      <td>контактный специалист центр</td>\n",
       "    </tr>\n",
       "    <tr>\n",
       "      <th>19181</th>\n",
       "      <td>Специалист по туризму, переводчик</td>\n",
       "      <td>специалист по туризму переводчик</td>\n",
       "      <td>специалист по туризму переводчик</td>\n",
       "      <td>переводчик специалист туризм</td>\n",
       "      <td>0</td>\n",
       "      <td>0.804688</td>\n",
       "      <td>туризм</td>\n",
       "    </tr>\n",
       "    <tr>\n",
       "      <th>31652</th>\n",
       "      <td>Государственный лесной инспектор</td>\n",
       "      <td>государственный лесной инспектор</td>\n",
       "      <td>государственный лесной инспектор</td>\n",
       "      <td>государственный инспектор лесной</td>\n",
       "      <td>0</td>\n",
       "      <td>0.575128</td>\n",
       "      <td>инженер сетевой</td>\n",
       "    </tr>\n",
       "    <tr>\n",
       "      <th>90101</th>\n",
       "      <td>химик</td>\n",
       "      <td>химик</td>\n",
       "      <td>химик</td>\n",
       "      <td>химик</td>\n",
       "      <td>0</td>\n",
       "      <td>0.647603</td>\n",
       "      <td>геолог</td>\n",
       "    </tr>\n",
       "    <tr>\n",
       "      <th>124667</th>\n",
       "      <td>методист</td>\n",
       "      <td>методист</td>\n",
       "      <td>методист</td>\n",
       "      <td>методист</td>\n",
       "      <td>0</td>\n",
       "      <td>0.710220</td>\n",
       "      <td>педагог</td>\n",
       "    </tr>\n",
       "    <tr>\n",
       "      <th>32564</th>\n",
       "      <td>предприниматель</td>\n",
       "      <td>предприниматель</td>\n",
       "      <td>предприниматель</td>\n",
       "      <td>предприниматель</td>\n",
       "      <td>0</td>\n",
       "      <td>0.587094</td>\n",
       "      <td>юрист</td>\n",
       "    </tr>\n",
       "    <tr>\n",
       "      <th>34869</th>\n",
       "      <td>идиотом</td>\n",
       "      <td>идиотом</td>\n",
       "      <td>идиотом</td>\n",
       "      <td>идиот</td>\n",
       "      <td>0</td>\n",
       "      <td>0.410286</td>\n",
       "      <td>охранник</td>\n",
       "    </tr>\n",
       "    <tr>\n",
       "      <th>102271</th>\n",
       "      <td>экспедитор</td>\n",
       "      <td>экспедитор</td>\n",
       "      <td>экспедитор</td>\n",
       "      <td>экспедитор</td>\n",
       "      <td>0</td>\n",
       "      <td>0.675851</td>\n",
       "      <td>грузчик</td>\n",
       "    </tr>\n",
       "  </tbody>\n",
       "</table>\n",
       "</div>"
      ],
      "text/plain": [
       "                                           q61  \\\n",
       "145576  Администрирование | Секретарь-референт   \n",
       "109833                                  танцор   \n",
       "97238                                 Костиком   \n",
       "19181        Специалист по туризму, переводчик   \n",
       "31652         Государственный лесной инспектор   \n",
       "90101                                    химик   \n",
       "124667                               методист    \n",
       "32564                          предприниматель   \n",
       "34869                                  идиотом   \n",
       "102271                              экспедитор   \n",
       "\n",
       "                               corrected                         tokenized  \\\n",
       "145576                секретарь-референт                секретарь-референт   \n",
       "109833                            танцор                            танцор   \n",
       "97238                           мостиком                          мостиком   \n",
       "19181   специалист по туризму переводчик  специалист по туризму переводчик   \n",
       "31652   государственный лесной инспектор  государственный лесной инспектор   \n",
       "90101                              химик                             химик   \n",
       "124667                          методист                          методист   \n",
       "32564                    предприниматель                   предприниматель   \n",
       "34869                            идиотом                           идиотом   \n",
       "102271                        экспедитор                        экспедитор   \n",
       "\n",
       "                              normalized  direct_match     score  \\\n",
       "145576                секретарь-референт             0  0.678314   \n",
       "109833                            танцор             0  0.635488   \n",
       "97238                             мостик             0  0.362631   \n",
       "19181       переводчик специалист туризм             0  0.804688   \n",
       "31652   государственный инспектор лесной             0  0.575128   \n",
       "90101                              химик             0  0.647603   \n",
       "124667                          методист             0  0.710220   \n",
       "32564                    предприниматель             0  0.587094   \n",
       "34869                              идиот             0  0.410286   \n",
       "102271                        экспедитор             0  0.675851   \n",
       "\n",
       "                      matched_token  \n",
       "145576                офис-менеджер  \n",
       "109833                       артист  \n",
       "97238   контактный специалист центр  \n",
       "19181                        туризм  \n",
       "31652               инженер сетевой  \n",
       "90101                        геолог  \n",
       "124667                      педагог  \n",
       "32564                         юрист  \n",
       "34869                      охранник  \n",
       "102271                      грузчик  "
      ]
     },
     "execution_count": 29,
     "metadata": {},
     "output_type": "execute_result"
    }
   ],
   "source": [
    "answers[(answers.direct_match == 0)][columns].sample(10)"
   ]
  },
  {
   "cell_type": "markdown",
   "metadata": {},
   "source": [
    "Сохраним полученные соответствия для анализа и создания обучабщи выборок."
   ]
  },
  {
   "cell_type": "code",
   "execution_count": 30,
   "metadata": {},
   "outputs": [
    {
     "data": {
      "text/html": [
       "<div>\n",
       "<style scoped>\n",
       "    .dataframe tbody tr th:only-of-type {\n",
       "        vertical-align: middle;\n",
       "    }\n",
       "\n",
       "    .dataframe tbody tr th {\n",
       "        vertical-align: top;\n",
       "    }\n",
       "\n",
       "    .dataframe thead th {\n",
       "        text-align: right;\n",
       "    }\n",
       "</style>\n",
       "<table border=\"1\" class=\"dataframe\">\n",
       "  <thead>\n",
       "    <tr style=\"text-align: right;\">\n",
       "      <th></th>\n",
       "      <th>q61</th>\n",
       "      <th>corrected</th>\n",
       "      <th>tokenized</th>\n",
       "      <th>normalized</th>\n",
       "      <th>score</th>\n",
       "      <th>matched_token</th>\n",
       "      <th>direct_match</th>\n",
       "      <th>prof_names</th>\n",
       "    </tr>\n",
       "  </thead>\n",
       "  <tbody>\n",
       "    <tr>\n",
       "      <th>0</th>\n",
       "      <td>экономист</td>\n",
       "      <td>экономист</td>\n",
       "      <td>экономист</td>\n",
       "      <td>экономист</td>\n",
       "      <td>1.000000</td>\n",
       "      <td>экономист</td>\n",
       "      <td>1</td>\n",
       "      <td>экономист</td>\n",
       "    </tr>\n",
       "    <tr>\n",
       "      <th>1</th>\n",
       "      <td>Учитель</td>\n",
       "      <td>учитель</td>\n",
       "      <td>учитель</td>\n",
       "      <td>учитель</td>\n",
       "      <td>1.000000</td>\n",
       "      <td>учитель</td>\n",
       "      <td>1</td>\n",
       "      <td>учитель</td>\n",
       "    </tr>\n",
       "    <tr>\n",
       "      <th>2</th>\n",
       "      <td>рекламист</td>\n",
       "      <td>рекламы</td>\n",
       "      <td>рекламы</td>\n",
       "      <td>реклама</td>\n",
       "      <td>0.911108</td>\n",
       "      <td>маркетинг реклама</td>\n",
       "      <td>0</td>\n",
       "      <td>менеджер по маркетингу и рекламе</td>\n",
       "    </tr>\n",
       "    <tr>\n",
       "      <th>3</th>\n",
       "      <td>Руководитель участка</td>\n",
       "      <td>руководитель участка</td>\n",
       "      <td>руководитель участка</td>\n",
       "      <td>руководитель</td>\n",
       "      <td>0.809574</td>\n",
       "      <td>директор исполнительный</td>\n",
       "      <td>0</td>\n",
       "      <td>исполнительный директор</td>\n",
       "    </tr>\n",
       "    <tr>\n",
       "      <th>4</th>\n",
       "      <td>Повар</td>\n",
       "      <td>повар</td>\n",
       "      <td>повар</td>\n",
       "      <td>повар</td>\n",
       "      <td>1.000000</td>\n",
       "      <td>повар</td>\n",
       "      <td>1</td>\n",
       "      <td>повар</td>\n",
       "    </tr>\n",
       "  </tbody>\n",
       "</table>\n",
       "</div>"
      ],
      "text/plain": [
       "                    q61             corrected             tokenized  \\\n",
       "0             экономист             экономист             экономист   \n",
       "1               Учитель               учитель               учитель   \n",
       "2             рекламист               рекламы               рекламы   \n",
       "3  Руководитель участка  руководитель участка  руководитель участка   \n",
       "4                 Повар                 повар                 повар   \n",
       "\n",
       "     normalized     score            matched_token  direct_match  \\\n",
       "0     экономист  1.000000                экономист             1   \n",
       "1       учитель  1.000000                  учитель             1   \n",
       "2       реклама  0.911108        маркетинг реклама             0   \n",
       "3  руководитель  0.809574  директор исполнительный             0   \n",
       "4         повар  1.000000                    повар             1   \n",
       "\n",
       "                         prof_names  \n",
       "0                         экономист  \n",
       "1                           учитель  \n",
       "2  менеджер по маркетингу и рекламе  \n",
       "3           исполнительный директор  \n",
       "4                             повар  "
      ]
     },
     "execution_count": 30,
     "metadata": {},
     "output_type": "execute_result"
    }
   ],
   "source": [
    "matched = answers.merge(professions, \n",
    "                        how='left', \n",
    "                        left_on='matched_token', \n",
    "                        right_on='prof_tokens').drop('prof_tokens', axis=1)\n",
    "matched.head()"
   ]
  },
  {
   "cell_type": "code",
   "execution_count": 31,
   "metadata": {},
   "outputs": [],
   "source": [
    "matched.to_csv('../datasets/processed/answer-profession-match.csv', index=False)"
   ]
  },
  {
   "cell_type": "markdown",
   "metadata": {},
   "source": [
    "### Анализ результатов"
   ]
  },
  {
   "cell_type": "code",
   "execution_count": 32,
   "metadata": {},
   "outputs": [],
   "source": [
    "answers.loc[answers.score < .85, 'matched_token'] = answers.loc[answers.score < .9, 'normalized']\n",
    "answers.loc[answers.score < .85, 'prof_names'] = answers.loc[answers.score < .9, 'normalized']"
   ]
  },
  {
   "cell_type": "code",
   "execution_count": 33,
   "metadata": {},
   "outputs": [
    {
     "name": "stdout",
     "output_type": "stream",
     "text": [
      "Прямых совпадений 33801\n",
      "Cоответствий справочнику со score [0.85, 1.0] 7526\n",
      "Cоответствий справочнику со score (0.6, 0.85) 24498\n",
      "Cоответствий справочнику со score [0, 0.6] 13723\n",
      "Всего ответов с профессиями:  79548\n"
     ]
    }
   ],
   "source": [
    "print('Прямых совпадений', matched[matched.direct_match == 1].shape[0])\n",
    "print('Cоответствий справочнику со score [0.85, 1.0]', matched[(matched.direct_match == 0)\\\n",
    "                                                             & (matched.score >= .85)].shape[0])\n",
    "print('Cоответствий справочнику со score (0.6, 0.85)', matched[(matched.direct_match == 0)\\\n",
    "                                                             & (matched.score.between(.6,.85))].shape[0])\n",
    "print('Cоответствий справочнику со score [0, 0.6]', matched[(matched.direct_match == 0)\\\n",
    "                                                             & (matched.score <= .6)].shape[0])\n",
    "print('Всего ответов с профессиями: ', answers.shape[0])\n"
   ]
  },
  {
   "cell_type": "code",
   "execution_count": 34,
   "metadata": {},
   "outputs": [],
   "source": [
    "source_distribution = answers.q61.str.lower().value_counts().reset_index()\n",
    "normailized_ditribution = answers.normalized.value_counts().reset_index()\n",
    "matched_ditribution = answers.matched_token.value_counts().reset_index()\n",
    "limit = matched.matched_token.value_counts().reset_index()\n"
   ]
  },
  {
   "cell_type": "code",
   "execution_count": 41,
   "metadata": {},
   "outputs": [
    {
     "data": {
      "image/png": "[encoded data removed]",
      "text/plain": [
       "<Figure size 1008x432 with 1 Axes>"
      ]
     },
     "metadata": {
      "image/png": {
       "height": 391,
       "width": 842
      },
      "needs_background": "light"
     },
     "output_type": "display_data"
    }
   ],
   "source": [
    "plt.figure(figsize=(14,6))\n",
    "plt.yscale('log')\n",
    "plt.xscale('log')\n",
    "plt.axhline(300, c='r', label='300 объектов')\n",
    "plt.axvline(40, c='k', alpha=.5, ls='--')\n",
    "plt.axvline(50, c='k', alpha=.5, ls='--')\n",
    "plt.axvline(80, c='k', alpha=.5, ls='--')\n",
    "plt.plot(source_distribution.index, source_distribution['q61'], label='Исходные ответы', lw=3)\n",
    "plt.plot(normailized_ditribution.index, normailized_ditribution['normalized'], label='Прямое совпадение', lw=3)\n",
    "plt.plot(matched_ditribution.index, matched_ditribution['matched_token'], label='Косинусное сходство', lw=3)\n",
    "plt.plot(limit.index, limit['matched_token'], label='Теориетический предел', lw=0, marker='o', markersize=5)\n",
    "plt.ylabel('Количество объектов')\n",
    "plt.xlabel('Порядковый номер уникальной фразы')\n",
    "plt.title('Количество уникальных значений профессии'.upper(), fontsize='xx-large')\n",
    "plt.legend()\n",
    "plt.grid(visible=True)\n",
    "plt.xlim(1, 1e4)\n",
    "plt.savefig('../reports/answers_matching.png', dpi=300, transparent=False)\n",
    "plt.show()"
   ]
  },
  {
   "cell_type": "markdown",
   "metadata": {},
   "source": [
    "## Вывод"
   ]
  },
  {
   "cell_type": "markdown",
   "metadata": {},
   "source": [
    "Мы видим, что в оригинальном датасете 40 уникальных значений, относящихся к профессия, встречались в 300+ анкетах. \n",
    "\n",
    "Приведение ответов и значений справочника профессий к нормальной форме позволило классифицировать чуть менее половины ответов простым сравнением строк. Это решение увеличило количество профессий с числом анкет 300+ до 50 и дало существенный прирост в количестве анкет на профессию по отношению к оригинальному датасету.\n",
    "\n",
    "Поиск соответствия по косинусной схожести с порогом >.85 позволил классифицировать ответы еще 7500 анкет, что стало незначительным улучшением прямого сравнения. \n",
    "\n",
    "Отметим, что в идеальном случае (предположим, что все сопоставления являются правильными) применение мульти-классовой классификации ответов на исследуемом датасете позволяет вдвое увеличить количество профессий с количеством анкет 300+. Что говорит о перспективности работы в этом направлении."
   ]
  }
 ],
 "metadata": {
  "kernelspec": {
   "display_name": "Python 3 (ipykernel)",
   "language": "python",
   "name": "python3"
  },
  "language_info": {
   "codemirror_mode": {
    "name": "ipython",
    "version": 3
   },
   "file_extension": ".py",
   "mimetype": "text/x-python",
   "name": "python",
   "nbconvert_exporter": "python",
   "pygments_lexer": "ipython3",
   "version": "3.9.12"
  },
  "toc": {
   "base_numbering": 1,
   "nav_menu": {},
   "number_sections": true,
   "sideBar": true,
   "skip_h1_title": false,
   "title_cell": "Table of Contents",
   "title_sidebar": "Contents",
   "toc_cell": false,
   "toc_position": {},
   "toc_section_display": true,
   "toc_window_display": false
  },
  "vscode": {
   "interpreter": {
    "hash": "ac6f7dda0a387060d6c296a1a992241c48e02a04b69f2209e2d27f192d44adcf"
   }
  }
 },
 "nbformat": 4,
 "nbformat_minor": 2
}
