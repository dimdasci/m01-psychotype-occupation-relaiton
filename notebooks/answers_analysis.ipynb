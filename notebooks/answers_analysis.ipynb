{
 "cells": [
  {
   "cell_type": "markdown",
   "metadata": {},
   "source": [
    "#  Анализ предобработанных ответов\n",
    "\n",
    "Мы выделили в ответах набор признаков:\n",
    "- количество слов, \n",
    "- количество слов вне словаря,\n",
    "- наличие глаголов,\n",
    "- наличие отрицаний,\n",
    "- упоминание прошлого или будущего.\n",
    "\n",
    "Изучим связь этих признаков с ответом на вопрос \"Кем ты работаешь?\""
   ]
  },
  {
   "cell_type": "code",
   "execution_count": 1,
   "metadata": {},
   "outputs": [],
   "source": [
    "import pandas as pd"
   ]
  },
  {
   "cell_type": "code",
   "execution_count": 2,
   "metadata": {},
   "outputs": [],
   "source": [
    "import matplotlib.pyplot as plt\n",
    "%matplotlib inline\n",
    "%config InlineBackend.figure_format='retina'"
   ]
  },
  {
   "cell_type": "code",
   "execution_count": 3,
   "metadata": {},
   "outputs": [],
   "source": [
    "import pymorphy2"
   ]
  },
  {
   "cell_type": "code",
   "execution_count": 4,
   "metadata": {
    "scrolled": true
   },
   "outputs": [
    {
     "name": "stderr",
     "output_type": "stream",
     "text": [
      "[nltk_data] Downloading package punkt to\n",
      "[nltk_data]     /Users/dkharitonov/nltk_data...\n",
      "[nltk_data]   Package punkt is already up-to-date!\n",
      "[nltk_data] Downloading package stopwords to\n",
      "[nltk_data]     /Users/dkharitonov/nltk_data...\n",
      "[nltk_data]   Package stopwords is already up-to-date!\n"
     ]
    }
   ],
   "source": [
    "import sys\n",
    "sys.path.append('../')\n",
    "from src.data.preprocess import drop_stopwords, tokenize_drop_punkt\n",
    "from src.data.preprocess import spell_check, normalize_tokens"
   ]
  },
  {
   "cell_type": "code",
   "execution_count": 5,
   "metadata": {},
   "outputs": [],
   "source": [
    "MA = pymorphy2.MorphAnalyzer()"
   ]
  },
  {
   "cell_type": "markdown",
   "metadata": {},
   "source": [
    "## Загрузка данных"
   ]
  },
  {
   "cell_type": "code",
   "execution_count": 6,
   "metadata": {},
   "outputs": [],
   "source": [
    "df = pd.read_csv('../datasets/intermediate/df_answers_analysed.csv', index_col=0, low_memory=False)"
   ]
  },
  {
   "cell_type": "code",
   "execution_count": 7,
   "metadata": {},
   "outputs": [
    {
     "data": {
      "text/plain": [
       "(149700, 141)"
      ]
     },
     "execution_count": 7,
     "metadata": {},
     "output_type": "execute_result"
    }
   ],
   "source": [
    "df.shape"
   ]
  },
  {
   "cell_type": "code",
   "execution_count": 8,
   "metadata": {},
   "outputs": [],
   "source": [
    "columns = ['q61', 'corrected', 'n_out_of_vocab', 'n_words', \n",
    "           'n_verbs', 'has_negative', 'has_past_future',\n",
    "           'tokenized', 'normalized']"
   ]
  },
  {
   "cell_type": "markdown",
   "metadata": {},
   "source": [
    "## Анализ характеристик ответов"
   ]
  },
  {
   "cell_type": "markdown",
   "metadata": {},
   "source": [
    "### Нормализованные токены"
   ]
  },
  {
   "cell_type": "markdown",
   "metadata": {},
   "source": [
    "Оценим, какое количество объектов остались без нормализованных токенов: сузществительных и прилагательных без стоп-слов."
   ]
  },
  {
   "cell_type": "code",
   "execution_count": 9,
   "metadata": {},
   "outputs": [
    {
     "name": "stdout",
     "output_type": "stream",
     "text": [
      "Объектов с нормализоваными токенами 80894\n",
      "Объектов с пустыми нормализоваными токенами 68806\n"
     ]
    }
   ],
   "source": [
    "print('Объектов с нормализоваными токенами', df[~df.normalized.isna()].shape[0])\n",
    "print('Объектов с пустыми нормализоваными токенами', df[df.normalized.isna()].shape[0])"
   ]
  },
  {
   "cell_type": "code",
   "execution_count": 10,
   "metadata": {},
   "outputs": [
    {
     "data": {
      "text/html": [
       "<div>\n",
       "<style scoped>\n",
       "    .dataframe tbody tr th:only-of-type {\n",
       "        vertical-align: middle;\n",
       "    }\n",
       "\n",
       "    .dataframe tbody tr th {\n",
       "        vertical-align: top;\n",
       "    }\n",
       "\n",
       "    .dataframe thead th {\n",
       "        text-align: right;\n",
       "    }\n",
       "</style>\n",
       "<table border=\"1\" class=\"dataframe\">\n",
       "  <thead>\n",
       "    <tr style=\"text-align: right;\">\n",
       "      <th></th>\n",
       "      <th>q61</th>\n",
       "      <th>corrected</th>\n",
       "      <th>n_out_of_vocab</th>\n",
       "      <th>n_words</th>\n",
       "      <th>n_verbs</th>\n",
       "      <th>has_negative</th>\n",
       "      <th>has_past_future</th>\n",
       "      <th>tokenized</th>\n",
       "      <th>normalized</th>\n",
       "    </tr>\n",
       "  </thead>\n",
       "  <tbody>\n",
       "    <tr>\n",
       "      <th>3</th>\n",
       "      <td>никем</td>\n",
       "      <td>никем</td>\n",
       "      <td>0</td>\n",
       "      <td>1</td>\n",
       "      <td>0</td>\n",
       "      <td>1</td>\n",
       "      <td>0</td>\n",
       "      <td>никем</td>\n",
       "      <td>NaN</td>\n",
       "    </tr>\n",
       "    <tr>\n",
       "      <th>4</th>\n",
       "      <td>я школьник</td>\n",
       "      <td>я школьник</td>\n",
       "      <td>1</td>\n",
       "      <td>2</td>\n",
       "      <td>0</td>\n",
       "      <td>0</td>\n",
       "      <td>0</td>\n",
       "      <td>школьник</td>\n",
       "      <td>NaN</td>\n",
       "    </tr>\n",
       "    <tr>\n",
       "      <th>5</th>\n",
       "      <td>Никем</td>\n",
       "      <td>никем</td>\n",
       "      <td>0</td>\n",
       "      <td>1</td>\n",
       "      <td>0</td>\n",
       "      <td>1</td>\n",
       "      <td>0</td>\n",
       "      <td>никем</td>\n",
       "      <td>NaN</td>\n",
       "    </tr>\n",
       "    <tr>\n",
       "      <th>8</th>\n",
       "      <td>никнм</td>\n",
       "      <td>никем</td>\n",
       "      <td>0</td>\n",
       "      <td>1</td>\n",
       "      <td>0</td>\n",
       "      <td>1</td>\n",
       "      <td>0</td>\n",
       "      <td>никем</td>\n",
       "      <td>NaN</td>\n",
       "    </tr>\n",
       "    <tr>\n",
       "      <th>9</th>\n",
       "      <td>НЕ КЕМ</td>\n",
       "      <td>не кем</td>\n",
       "      <td>2</td>\n",
       "      <td>2</td>\n",
       "      <td>0</td>\n",
       "      <td>1</td>\n",
       "      <td>0</td>\n",
       "      <td>не кем</td>\n",
       "      <td>NaN</td>\n",
       "    </tr>\n",
       "  </tbody>\n",
       "</table>\n",
       "</div>"
      ],
      "text/plain": [
       "          q61   corrected  n_out_of_vocab  n_words  n_verbs  has_negative  \\\n",
       "3       никем       никем               0        1        0             1   \n",
       "4  я школьник  я школьник               1        2        0             0   \n",
       "5      Никем        никем               0        1        0             1   \n",
       "8       никнм       никем               0        1        0             1   \n",
       "9      НЕ КЕМ      не кем               2        2        0             1   \n",
       "\n",
       "   has_past_future tokenized normalized  \n",
       "3                0     никем        NaN  \n",
       "4                0  школьник        NaN  \n",
       "5                0     никем        NaN  \n",
       "8                0     никем        NaN  \n",
       "9                0    не кем        NaN  "
      ]
     },
     "execution_count": 10,
     "metadata": {},
     "output_type": "execute_result"
    }
   ],
   "source": [
    "df[df.normalized.isna()][columns].head()"
   ]
  },
  {
   "cell_type": "markdown",
   "metadata": {},
   "source": [
    "Видим, что нормализация помогает нам выделить ответы, не содержащие смысловых по отношению к профессии терминов."
   ]
  },
  {
   "cell_type": "markdown",
   "metadata": {},
   "source": [
    "### Глаголы в ответе"
   ]
  },
  {
   "cell_type": "markdown",
   "metadata": {},
   "source": [
    "Проанализируем как распределены объекты по количеству глаголов в ответах. Формулировака вопроса \"Кем ты работаешь?\" не подразумевает наличие глагола. Глагол характерен для ответа \"Что ты делаешь?\"."
   ]
  },
  {
   "cell_type": "code",
   "execution_count": 11,
   "metadata": {},
   "outputs": [
    {
     "data": {
      "text/plain": [
       "0     79793\n",
       "1       849\n",
       "2       194\n",
       "3        39\n",
       "4        12\n",
       "5         4\n",
       "6         2\n",
       "10        1\n",
       "Name: n_verbs, dtype: int64"
      ]
     },
     "execution_count": 11,
     "metadata": {},
     "output_type": "execute_result"
    }
   ],
   "source": [
    "df[~df.normalized.isna()].n_verbs.value_counts()"
   ]
  },
  {
   "cell_type": "markdown",
   "metadata": {},
   "source": [
    "Действительно, глаголы в ответах встречаются редко: в 1 из 9 случаев.\n",
    "\n",
    "Посмотрим пример ответов с глаголами."
   ]
  },
  {
   "cell_type": "code",
   "execution_count": 12,
   "metadata": {},
   "outputs": [
    {
     "data": {
      "text/html": [
       "<div>\n",
       "<style scoped>\n",
       "    .dataframe tbody tr th:only-of-type {\n",
       "        vertical-align: middle;\n",
       "    }\n",
       "\n",
       "    .dataframe tbody tr th {\n",
       "        vertical-align: top;\n",
       "    }\n",
       "\n",
       "    .dataframe thead th {\n",
       "        text-align: right;\n",
       "    }\n",
       "</style>\n",
       "<table border=\"1\" class=\"dataframe\">\n",
       "  <thead>\n",
       "    <tr style=\"text-align: right;\">\n",
       "      <th></th>\n",
       "      <th>q61</th>\n",
       "      <th>corrected</th>\n",
       "      <th>n_out_of_vocab</th>\n",
       "      <th>n_words</th>\n",
       "      <th>n_verbs</th>\n",
       "      <th>has_negative</th>\n",
       "      <th>has_past_future</th>\n",
       "      <th>tokenized</th>\n",
       "      <th>normalized</th>\n",
       "    </tr>\n",
       "  </thead>\n",
       "  <tbody>\n",
       "    <tr>\n",
       "      <th>1</th>\n",
       "      <td>Данный момент не работаю</td>\n",
       "      <td>данный момент не работаю</td>\n",
       "      <td>1</td>\n",
       "      <td>4</td>\n",
       "      <td>1</td>\n",
       "      <td>1</td>\n",
       "      <td>0</td>\n",
       "      <td>данный момент не работаю</td>\n",
       "      <td>данный момент</td>\n",
       "    </tr>\n",
       "    <tr>\n",
       "      <th>573</th>\n",
       "      <td>Я работаю на предприятии, слежу за работой в з...</td>\n",
       "      <td>я работаю на предприятии слежу за работой в за...</td>\n",
       "      <td>6</td>\n",
       "      <td>16</td>\n",
       "      <td>4</td>\n",
       "      <td>0</td>\n",
       "      <td>0</td>\n",
       "      <td>работаю на предприятии слежу за работой зале и...</td>\n",
       "      <td>зал предприятие упаковка</td>\n",
       "    </tr>\n",
       "    <tr>\n",
       "      <th>578</th>\n",
       "      <td>Четкого названия профессии нет, я смотрю за те...</td>\n",
       "      <td>четкого названия профессии нет я смотрю за тем...</td>\n",
       "      <td>6</td>\n",
       "      <td>19</td>\n",
       "      <td>3</td>\n",
       "      <td>1</td>\n",
       "      <td>0</td>\n",
       "      <td>четкого названия профессии нет смотрю за тем к...</td>\n",
       "      <td>возникновение зал название проблема профессия ...</td>\n",
       "    </tr>\n",
       "    <tr>\n",
       "      <th>668</th>\n",
       "      <td>не выбрала профессию</td>\n",
       "      <td>не выбрала профессию</td>\n",
       "      <td>1</td>\n",
       "      <td>3</td>\n",
       "      <td>1</td>\n",
       "      <td>1</td>\n",
       "      <td>0</td>\n",
       "      <td>не выбрала профессию</td>\n",
       "      <td>профессия</td>\n",
       "    </tr>\n",
       "    <tr>\n",
       "      <th>754</th>\n",
       "      <td>хотел бы юристом</td>\n",
       "      <td>хотел бы юристом</td>\n",
       "      <td>1</td>\n",
       "      <td>3</td>\n",
       "      <td>1</td>\n",
       "      <td>0</td>\n",
       "      <td>0</td>\n",
       "      <td>хотел бы юристом</td>\n",
       "      <td>юрист</td>\n",
       "    </tr>\n",
       "  </tbody>\n",
       "</table>\n",
       "</div>"
      ],
      "text/plain": [
       "                                                   q61  \\\n",
       "1                            Данный момент не работаю    \n",
       "573  Я работаю на предприятии, слежу за работой в з...   \n",
       "578  Четкого названия профессии нет, я смотрю за те...   \n",
       "668                               не выбрала профессию   \n",
       "754                                   хотел бы юристом   \n",
       "\n",
       "                                             corrected  n_out_of_vocab  \\\n",
       "1                             данный момент не работаю               1   \n",
       "573  я работаю на предприятии слежу за работой в за...               6   \n",
       "578  четкого названия профессии нет я смотрю за тем...               6   \n",
       "668                               не выбрала профессию               1   \n",
       "754                                   хотел бы юристом               1   \n",
       "\n",
       "     n_words  n_verbs  has_negative  has_past_future  \\\n",
       "1          4        1             1                0   \n",
       "573       16        4             0                0   \n",
       "578       19        3             1                0   \n",
       "668        3        1             1                0   \n",
       "754        3        1             0                0   \n",
       "\n",
       "                                             tokenized  \\\n",
       "1                             данный момент не работаю   \n",
       "573  работаю на предприятии слежу за работой зале и...   \n",
       "578  четкого названия профессии нет смотрю за тем к...   \n",
       "668                               не выбрала профессию   \n",
       "754                                   хотел бы юристом   \n",
       "\n",
       "                                            normalized  \n",
       "1                                        данный момент  \n",
       "573                           зал предприятие упаковка  \n",
       "578  возникновение зал название проблема профессия ...  \n",
       "668                                          профессия  \n",
       "754                                              юрист  "
      ]
     },
     "execution_count": 12,
     "metadata": {},
     "output_type": "execute_result"
    }
   ],
   "source": [
    "df[~df.normalized.isna() & (df.n_verbs > 0)][columns].head()"
   ]
  },
  {
   "cell_type": "markdown",
   "metadata": {},
   "source": [
    "Наличие глагола в ответе говорит о том, что в ответе скорее рассуждение о профессии, нежели непосредственный ответ. \n",
    "\n",
    "Примем наличие глагола как признак, говорящий, что ответ не является профессией.\n",
    "\n",
    "Дальнейший анализ сделаем для ответов без глаголов."
   ]
  },
  {
   "cell_type": "markdown",
   "metadata": {},
   "source": [
    "### Отрицание в ответах"
   ]
  },
  {
   "cell_type": "markdown",
   "metadata": {},
   "source": [
    "Мы видели в ответах отрицательные предлоги и частицы ('не', 'ни', 'без', 'нет'). Посмотрим, сколько объектов с такими ответами."
   ]
  },
  {
   "cell_type": "code",
   "execution_count": 13,
   "metadata": {},
   "outputs": [
    {
     "data": {
      "text/plain": [
       "0    79580\n",
       "1      213\n",
       "Name: has_negative, dtype: int64"
      ]
     },
     "execution_count": 13,
     "metadata": {},
     "output_type": "execute_result"
    }
   ],
   "source": [
    "df[~df.normalized.isna() & (df.n_verbs == 0)].has_negative.value_counts()"
   ]
  },
  {
   "cell_type": "markdown",
   "metadata": {},
   "source": [
    "Мы видим всего 213 ответов с отрицанием."
   ]
  },
  {
   "cell_type": "code",
   "execution_count": 14,
   "metadata": {},
   "outputs": [
    {
     "data": {
      "text/html": [
       "<div>\n",
       "<style scoped>\n",
       "    .dataframe tbody tr th:only-of-type {\n",
       "        vertical-align: middle;\n",
       "    }\n",
       "\n",
       "    .dataframe tbody tr th {\n",
       "        vertical-align: top;\n",
       "    }\n",
       "\n",
       "    .dataframe thead th {\n",
       "        text-align: right;\n",
       "    }\n",
       "</style>\n",
       "<table border=\"1\" class=\"dataframe\">\n",
       "  <thead>\n",
       "    <tr style=\"text-align: right;\">\n",
       "      <th></th>\n",
       "      <th>q61</th>\n",
       "      <th>corrected</th>\n",
       "      <th>n_out_of_vocab</th>\n",
       "      <th>n_words</th>\n",
       "      <th>n_verbs</th>\n",
       "      <th>has_negative</th>\n",
       "      <th>has_past_future</th>\n",
       "      <th>tokenized</th>\n",
       "      <th>normalized</th>\n",
       "    </tr>\n",
       "  </thead>\n",
       "  <tbody>\n",
       "    <tr>\n",
       "      <th>1544</th>\n",
       "      <td>Нет работы на данный момент</td>\n",
       "      <td>нет работы на данный момент</td>\n",
       "      <td>2</td>\n",
       "      <td>5</td>\n",
       "      <td>0</td>\n",
       "      <td>1</td>\n",
       "      <td>0</td>\n",
       "      <td>нет работы на данный момент</td>\n",
       "      <td>данный момент</td>\n",
       "    </tr>\n",
       "    <tr>\n",
       "      <th>1762</th>\n",
       "      <td>пока никем, я - бывший ученик выпускного класса</td>\n",
       "      <td>пока никем я - бывший ученик выпускного класса</td>\n",
       "      <td>2</td>\n",
       "      <td>8</td>\n",
       "      <td>0</td>\n",
       "      <td>1</td>\n",
       "      <td>1</td>\n",
       "      <td>пока никем бывший ученик выпускного класса</td>\n",
       "      <td>бывший выпускной</td>\n",
       "    </tr>\n",
       "    <tr>\n",
       "      <th>1791</th>\n",
       "      <td>Никем я ужасный человек</td>\n",
       "      <td>никем я ужасный человек</td>\n",
       "      <td>1</td>\n",
       "      <td>4</td>\n",
       "      <td>0</td>\n",
       "      <td>1</td>\n",
       "      <td>0</td>\n",
       "      <td>никем ужасный человек</td>\n",
       "      <td>ужасный человек</td>\n",
       "    </tr>\n",
       "    <tr>\n",
       "      <th>1876</th>\n",
       "      <td>Никем директором</td>\n",
       "      <td>никем директором</td>\n",
       "      <td>0</td>\n",
       "      <td>2</td>\n",
       "      <td>0</td>\n",
       "      <td>1</td>\n",
       "      <td>0</td>\n",
       "      <td>никем директором</td>\n",
       "      <td>директор</td>\n",
       "    </tr>\n",
       "    <tr>\n",
       "      <th>2083</th>\n",
       "      <td>Не кеи</td>\n",
       "      <td>не кеи</td>\n",
       "      <td>2</td>\n",
       "      <td>2</td>\n",
       "      <td>0</td>\n",
       "      <td>1</td>\n",
       "      <td>0</td>\n",
       "      <td>не кеи</td>\n",
       "      <td>кея</td>\n",
       "    </tr>\n",
       "  </tbody>\n",
       "</table>\n",
       "</div>"
      ],
      "text/plain": [
       "                                                  q61  \\\n",
       "1544                      Нет работы на данный момент   \n",
       "1762  пока никем, я - бывший ученик выпускного класса   \n",
       "1791                          Никем я ужасный человек   \n",
       "1876                                Никем директором    \n",
       "2083                                           Не кеи   \n",
       "\n",
       "                                           corrected  n_out_of_vocab  n_words  \\\n",
       "1544                     нет работы на данный момент               2        5   \n",
       "1762  пока никем я - бывший ученик выпускного класса               2        8   \n",
       "1791                         никем я ужасный человек               1        4   \n",
       "1876                                никем директором               0        2   \n",
       "2083                                          не кеи               2        2   \n",
       "\n",
       "      n_verbs  has_negative  has_past_future  \\\n",
       "1544        0             1                0   \n",
       "1762        0             1                1   \n",
       "1791        0             1                0   \n",
       "1876        0             1                0   \n",
       "2083        0             1                0   \n",
       "\n",
       "                                       tokenized        normalized  \n",
       "1544                 нет работы на данный момент     данный момент  \n",
       "1762  пока никем бывший ученик выпускного класса  бывший выпускной  \n",
       "1791                       никем ужасный человек   ужасный человек  \n",
       "1876                            никем директором          директор  \n",
       "2083                                      не кеи               кея  "
      ]
     },
     "execution_count": 14,
     "metadata": {},
     "output_type": "execute_result"
    }
   ],
   "source": [
    "df[~df.normalized.isna() & (df.n_verbs == 0) & (df.has_negative == 1)][columns].head()"
   ]
  },
  {
   "cell_type": "markdown",
   "metadata": {},
   "source": [
    "Действительно видим ответы, говорящие, что респондент не работает."
   ]
  },
  {
   "cell_type": "markdown",
   "metadata": {},
   "source": [
    "### Будущее или прошедшее время"
   ]
  },
  {
   "cell_type": "code",
   "execution_count": 15,
   "metadata": {},
   "outputs": [
    {
     "data": {
      "text/plain": [
       "0    79565\n",
       "1       15\n",
       "Name: has_past_future, dtype: int64"
      ]
     },
     "execution_count": 15,
     "metadata": {},
     "output_type": "execute_result"
    }
   ],
   "source": [
    "df[~df.normalized.isna() & (df.n_verbs == 0) & (df.has_negative == 0)].has_past_future.value_counts()"
   ]
  },
  {
   "cell_type": "code",
   "execution_count": 16,
   "metadata": {},
   "outputs": [
    {
     "data": {
      "text/html": [
       "<div>\n",
       "<style scoped>\n",
       "    .dataframe tbody tr th:only-of-type {\n",
       "        vertical-align: middle;\n",
       "    }\n",
       "\n",
       "    .dataframe tbody tr th {\n",
       "        vertical-align: top;\n",
       "    }\n",
       "\n",
       "    .dataframe thead th {\n",
       "        text-align: right;\n",
       "    }\n",
       "</style>\n",
       "<table border=\"1\" class=\"dataframe\">\n",
       "  <thead>\n",
       "    <tr style=\"text-align: right;\">\n",
       "      <th></th>\n",
       "      <th>q61</th>\n",
       "      <th>corrected</th>\n",
       "      <th>n_out_of_vocab</th>\n",
       "      <th>n_words</th>\n",
       "      <th>n_verbs</th>\n",
       "      <th>has_negative</th>\n",
       "      <th>has_past_future</th>\n",
       "      <th>tokenized</th>\n",
       "      <th>normalized</th>\n",
       "    </tr>\n",
       "  </thead>\n",
       "  <tbody>\n",
       "    <tr>\n",
       "      <th>2556</th>\n",
       "      <td>Будущий Юрист</td>\n",
       "      <td>будущий юрист</td>\n",
       "      <td>0</td>\n",
       "      <td>2</td>\n",
       "      <td>0</td>\n",
       "      <td>0</td>\n",
       "      <td>1</td>\n",
       "      <td>будущий юрист</td>\n",
       "      <td>будущий юрист</td>\n",
       "    </tr>\n",
       "    <tr>\n",
       "      <th>6464</th>\n",
       "      <td>Тренер, будущий врач</td>\n",
       "      <td>тренера будущий врач</td>\n",
       "      <td>0</td>\n",
       "      <td>3</td>\n",
       "      <td>0</td>\n",
       "      <td>0</td>\n",
       "      <td>1</td>\n",
       "      <td>тренера будущий врач</td>\n",
       "      <td>будущий врач тренер</td>\n",
       "    </tr>\n",
       "    <tr>\n",
       "      <th>6497</th>\n",
       "      <td>Я будущий студент</td>\n",
       "      <td>я будущий студент</td>\n",
       "      <td>1</td>\n",
       "      <td>3</td>\n",
       "      <td>0</td>\n",
       "      <td>0</td>\n",
       "      <td>1</td>\n",
       "      <td>будущий студент</td>\n",
       "      <td>будущий</td>\n",
       "    </tr>\n",
       "    <tr>\n",
       "      <th>14642</th>\n",
       "      <td>будущий специалист по рекламе и связям с общес...</td>\n",
       "      <td>будущий специалист по рекламе и связям с общес...</td>\n",
       "      <td>3</td>\n",
       "      <td>8</td>\n",
       "      <td>0</td>\n",
       "      <td>0</td>\n",
       "      <td>1</td>\n",
       "      <td>будущий специалист по рекламе связям обществен...</td>\n",
       "      <td>будущий общественность реклама связь специалист</td>\n",
       "    </tr>\n",
       "    <tr>\n",
       "      <th>33312</th>\n",
       "      <td>Будущий врач</td>\n",
       "      <td>будущий врач</td>\n",
       "      <td>0</td>\n",
       "      <td>2</td>\n",
       "      <td>0</td>\n",
       "      <td>0</td>\n",
       "      <td>1</td>\n",
       "      <td>будущий врач</td>\n",
       "      <td>будущий врач</td>\n",
       "    </tr>\n",
       "  </tbody>\n",
       "</table>\n",
       "</div>"
      ],
      "text/plain": [
       "                                                     q61  \\\n",
       "2556                                      Будущий Юрист    \n",
       "6464                                Тренер, будущий врач   \n",
       "6497                                   Я будущий студент   \n",
       "14642  будущий специалист по рекламе и связям с общес...   \n",
       "33312                                       Будущий врач   \n",
       "\n",
       "                                               corrected  n_out_of_vocab  \\\n",
       "2556                                       будущий юрист               0   \n",
       "6464                                тренера будущий врач               0   \n",
       "6497                                   я будущий студент               1   \n",
       "14642  будущий специалист по рекламе и связям с общес...               3   \n",
       "33312                                       будущий врач               0   \n",
       "\n",
       "       n_words  n_verbs  has_negative  has_past_future  \\\n",
       "2556         2        0             0                1   \n",
       "6464         3        0             0                1   \n",
       "6497         3        0             0                1   \n",
       "14642        8        0             0                1   \n",
       "33312        2        0             0                1   \n",
       "\n",
       "                                               tokenized  \\\n",
       "2556                                       будущий юрист   \n",
       "6464                                тренера будущий врач   \n",
       "6497                                     будущий студент   \n",
       "14642  будущий специалист по рекламе связям обществен...   \n",
       "33312                                       будущий врач   \n",
       "\n",
       "                                            normalized  \n",
       "2556                                     будущий юрист  \n",
       "6464                               будущий врач тренер  \n",
       "6497                                           будущий  \n",
       "14642  будущий общественность реклама связь специалист  \n",
       "33312                                     будущий врач  "
      ]
     },
     "execution_count": 16,
     "metadata": {},
     "output_type": "execute_result"
    }
   ],
   "source": [
    "(\n",
    "    df[~df.normalized.isna() \n",
    "       & (df.n_verbs == 0) \n",
    "       & (df.has_negative == 0) \n",
    "       & (df.has_past_future == 1)]\n",
    "    [columns]\n",
    "    .head()\n",
    ")"
   ]
  },
  {
   "cell_type": "markdown",
   "metadata": {},
   "source": [
    "Видим, что прошлое или будещее время говорит, что ответ не про текущую профессию."
   ]
  },
  {
   "cell_type": "markdown",
   "metadata": {},
   "source": [
    "### Слова не из словаря"
   ]
  },
  {
   "cell_type": "markdown",
   "metadata": {},
   "source": [
    "Следующий выделенный для ответов признак говорит о количестве слов в ответе, которые не нашлись (функция ```spell_check``` модуля [```preprocess```](../src/data/preprocess.py)). Под \"не нашлись\" мы понимем слова длиной три символа и меньше, либо слова, которые не найдены [в словаре профессий](create_dictionary.ipynb)"
   ]
  },
  {
   "cell_type": "code",
   "execution_count": 17,
   "metadata": {},
   "outputs": [
    {
     "data": {
      "text/plain": [
       "0    68400\n",
       "1     9673\n",
       "2     1387\n",
       "3       88\n",
       "4       11\n",
       "5        3\n",
       "9        1\n",
       "6        1\n",
       "7        1\n",
       "Name: n_out_of_vocab, dtype: int64"
      ]
     },
     "execution_count": 17,
     "metadata": {},
     "output_type": "execute_result"
    }
   ],
   "source": [
    "(\n",
    "    df[~df.normalized.isna() \n",
    "       & (df.n_verbs == 0) \n",
    "       & (df.has_negative == 0) \n",
    "       & (df.has_past_future == 0)]\n",
    "    .n_out_of_vocab\n",
    "    .value_counts()\n",
    ")"
   ]
  },
  {
   "cell_type": "markdown",
   "metadata": {},
   "source": [
    "Видим, что наличие одного слова вне словаря распространненное явление. Посмотрим на примеры с одним словом вне словаря."
   ]
  },
  {
   "cell_type": "code",
   "execution_count": 18,
   "metadata": {},
   "outputs": [
    {
     "data": {
      "text/html": [
       "<div>\n",
       "<style scoped>\n",
       "    .dataframe tbody tr th:only-of-type {\n",
       "        vertical-align: middle;\n",
       "    }\n",
       "\n",
       "    .dataframe tbody tr th {\n",
       "        vertical-align: top;\n",
       "    }\n",
       "\n",
       "    .dataframe thead th {\n",
       "        text-align: right;\n",
       "    }\n",
       "</style>\n",
       "<table border=\"1\" class=\"dataframe\">\n",
       "  <thead>\n",
       "    <tr style=\"text-align: right;\">\n",
       "      <th></th>\n",
       "      <th>q61</th>\n",
       "      <th>corrected</th>\n",
       "      <th>n_out_of_vocab</th>\n",
       "      <th>n_words</th>\n",
       "      <th>n_verbs</th>\n",
       "      <th>has_negative</th>\n",
       "      <th>has_past_future</th>\n",
       "      <th>tokenized</th>\n",
       "      <th>normalized</th>\n",
       "    </tr>\n",
       "  </thead>\n",
       "  <tbody>\n",
       "    <tr>\n",
       "      <th>30</th>\n",
       "      <td>методист по культурно просветительной работе</td>\n",
       "      <td>методист по культурно просветительной работе</td>\n",
       "      <td>1</td>\n",
       "      <td>5</td>\n",
       "      <td>0</td>\n",
       "      <td>0</td>\n",
       "      <td>0</td>\n",
       "      <td>методист по культурно просветительной работе</td>\n",
       "      <td>методист просветительный</td>\n",
       "    </tr>\n",
       "    <tr>\n",
       "      <th>48</th>\n",
       "      <td>Инженер по охране труда</td>\n",
       "      <td>инженер по охране труда</td>\n",
       "      <td>1</td>\n",
       "      <td>4</td>\n",
       "      <td>0</td>\n",
       "      <td>0</td>\n",
       "      <td>0</td>\n",
       "      <td>инженер по охране труда</td>\n",
       "      <td>инженер охрана труд</td>\n",
       "    </tr>\n",
       "    <tr>\n",
       "      <th>54</th>\n",
       "      <td>Авиадиспетчер</td>\n",
       "      <td>авиадиспетчер</td>\n",
       "      <td>1</td>\n",
       "      <td>1</td>\n",
       "      <td>0</td>\n",
       "      <td>0</td>\n",
       "      <td>0</td>\n",
       "      <td>авиадиспетчер</td>\n",
       "      <td>авиадиспетчер</td>\n",
       "    </tr>\n",
       "    <tr>\n",
       "      <th>61</th>\n",
       "      <td>Оперуполномоченный</td>\n",
       "      <td>оперуполномоченный</td>\n",
       "      <td>1</td>\n",
       "      <td>1</td>\n",
       "      <td>0</td>\n",
       "      <td>0</td>\n",
       "      <td>0</td>\n",
       "      <td>оперуполномоченный</td>\n",
       "      <td>оперуполномоченный</td>\n",
       "    </tr>\n",
       "    <tr>\n",
       "      <th>122</th>\n",
       "      <td>На складе</td>\n",
       "      <td>на складе</td>\n",
       "      <td>1</td>\n",
       "      <td>2</td>\n",
       "      <td>0</td>\n",
       "      <td>0</td>\n",
       "      <td>0</td>\n",
       "      <td>на складе</td>\n",
       "      <td>склад</td>\n",
       "    </tr>\n",
       "  </tbody>\n",
       "</table>\n",
       "</div>"
      ],
      "text/plain": [
       "                                              q61  \\\n",
       "30   методист по культурно просветительной работе   \n",
       "48                        Инженер по охране труда   \n",
       "54                                  Авиадиспетчер   \n",
       "61                            Оперуполномоченный    \n",
       "122                                     На складе   \n",
       "\n",
       "                                        corrected  n_out_of_vocab  n_words  \\\n",
       "30   методист по культурно просветительной работе               1        5   \n",
       "48                        инженер по охране труда               1        4   \n",
       "54                                  авиадиспетчер               1        1   \n",
       "61                             оперуполномоченный               1        1   \n",
       "122                                     на складе               1        2   \n",
       "\n",
       "     n_verbs  has_negative  has_past_future  \\\n",
       "30         0             0                0   \n",
       "48         0             0                0   \n",
       "54         0             0                0   \n",
       "61         0             0                0   \n",
       "122        0             0                0   \n",
       "\n",
       "                                        tokenized                normalized  \n",
       "30   методист по культурно просветительной работе  методист просветительный  \n",
       "48                        инженер по охране труда       инженер охрана труд  \n",
       "54                                  авиадиспетчер             авиадиспетчер  \n",
       "61                             оперуполномоченный        оперуполномоченный  \n",
       "122                                     на складе                     склад  "
      ]
     },
     "execution_count": 18,
     "metadata": {},
     "output_type": "execute_result"
    }
   ],
   "source": [
    "(\n",
    "    df[~df.normalized.isna() \n",
    "    & (df.n_verbs == 0) \n",
    "    & (df.has_negative == 0) \n",
    "    & (df.has_past_future == 0)\n",
    "    & (df.n_out_of_vocab == 1)][columns]\n",
    "    .head()\n",
    ")"
   ]
  },
  {
   "cell_type": "markdown",
   "metadata": {},
   "source": [
    "Видим, что в таких ответах употребляются предлоги и частицы, либо редкие профессии (авиадиспетчер, оперуполномоченный), которые отстутвуют в словаре. При этом ответы качественные."
   ]
  },
  {
   "cell_type": "code",
   "execution_count": 19,
   "metadata": {},
   "outputs": [
    {
     "data": {
      "text/html": [
       "<div>\n",
       "<style scoped>\n",
       "    .dataframe tbody tr th:only-of-type {\n",
       "        vertical-align: middle;\n",
       "    }\n",
       "\n",
       "    .dataframe tbody tr th {\n",
       "        vertical-align: top;\n",
       "    }\n",
       "\n",
       "    .dataframe thead th {\n",
       "        text-align: right;\n",
       "    }\n",
       "</style>\n",
       "<table border=\"1\" class=\"dataframe\">\n",
       "  <thead>\n",
       "    <tr style=\"text-align: right;\">\n",
       "      <th></th>\n",
       "      <th>q61</th>\n",
       "      <th>corrected</th>\n",
       "      <th>n_out_of_vocab</th>\n",
       "      <th>n_words</th>\n",
       "      <th>n_verbs</th>\n",
       "      <th>has_negative</th>\n",
       "      <th>has_past_future</th>\n",
       "      <th>tokenized</th>\n",
       "      <th>normalized</th>\n",
       "    </tr>\n",
       "  </thead>\n",
       "  <tbody>\n",
       "    <tr>\n",
       "      <th>379</th>\n",
       "      <td>Младший специалист в Яндекс.Такси</td>\n",
       "      <td>младший специалист в яндекс.такси</td>\n",
       "      <td>2</td>\n",
       "      <td>4</td>\n",
       "      <td>0</td>\n",
       "      <td>0</td>\n",
       "      <td>0</td>\n",
       "      <td>младший специалист яндекс.такси</td>\n",
       "      <td>младший специалист яндекс.такси</td>\n",
       "    </tr>\n",
       "    <tr>\n",
       "      <th>402</th>\n",
       "      <td>консультант в кол центре</td>\n",
       "      <td>консультант в кол центре</td>\n",
       "      <td>2</td>\n",
       "      <td>4</td>\n",
       "      <td>0</td>\n",
       "      <td>0</td>\n",
       "      <td>0</td>\n",
       "      <td>консультант кол центре</td>\n",
       "      <td>кол консультант центр</td>\n",
       "    </tr>\n",
       "    <tr>\n",
       "      <th>465</th>\n",
       "      <td>Специалист по связям с общественностью</td>\n",
       "      <td>специалист по связям с общественностью</td>\n",
       "      <td>2</td>\n",
       "      <td>5</td>\n",
       "      <td>0</td>\n",
       "      <td>0</td>\n",
       "      <td>0</td>\n",
       "      <td>специалист по связям общественностью</td>\n",
       "      <td>общественность связь специалист</td>\n",
       "    </tr>\n",
       "    <tr>\n",
       "      <th>487</th>\n",
       "      <td>инженер-менеджер по управлению качеством</td>\n",
       "      <td>инженер-менеджер по управлению качеством</td>\n",
       "      <td>2</td>\n",
       "      <td>4</td>\n",
       "      <td>0</td>\n",
       "      <td>0</td>\n",
       "      <td>0</td>\n",
       "      <td>инженер-менеджер по управлению качеством</td>\n",
       "      <td>инженер-менеджер качество управление</td>\n",
       "    </tr>\n",
       "    <tr>\n",
       "      <th>755</th>\n",
       "      <td>Специалист по контролю за персоналом</td>\n",
       "      <td>специалист по контролю за персоналом</td>\n",
       "      <td>2</td>\n",
       "      <td>5</td>\n",
       "      <td>0</td>\n",
       "      <td>0</td>\n",
       "      <td>0</td>\n",
       "      <td>специалист по контролю за персоналом</td>\n",
       "      <td>контроль персонал специалист</td>\n",
       "    </tr>\n",
       "  </tbody>\n",
       "</table>\n",
       "</div>"
      ],
      "text/plain": [
       "                                          q61  \\\n",
       "379         Младший специалист в Яндекс.Такси   \n",
       "402                  консультант в кол центре   \n",
       "465   Специалист по связям с общественностью    \n",
       "487  инженер-менеджер по управлению качеством   \n",
       "755      Специалист по контролю за персоналом   \n",
       "\n",
       "                                    corrected  n_out_of_vocab  n_words  \\\n",
       "379         младший специалист в яндекс.такси               2        4   \n",
       "402                  консультант в кол центре               2        4   \n",
       "465    специалист по связям с общественностью               2        5   \n",
       "487  инженер-менеджер по управлению качеством               2        4   \n",
       "755      специалист по контролю за персоналом               2        5   \n",
       "\n",
       "     n_verbs  has_negative  has_past_future  \\\n",
       "379        0             0                0   \n",
       "402        0             0                0   \n",
       "465        0             0                0   \n",
       "487        0             0                0   \n",
       "755        0             0                0   \n",
       "\n",
       "                                    tokenized  \\\n",
       "379           младший специалист яндекс.такси   \n",
       "402                    консультант кол центре   \n",
       "465      специалист по связям общественностью   \n",
       "487  инженер-менеджер по управлению качеством   \n",
       "755      специалист по контролю за персоналом   \n",
       "\n",
       "                               normalized  \n",
       "379       младший специалист яндекс.такси  \n",
       "402                 кол консультант центр  \n",
       "465       общественность связь специалист  \n",
       "487  инженер-менеджер качество управление  \n",
       "755          контроль персонал специалист  "
      ]
     },
     "execution_count": 19,
     "metadata": {},
     "output_type": "execute_result"
    }
   ],
   "source": [
    "(\n",
    "    df[~df.normalized.isna() \n",
    "    & (df.n_verbs == 0) \n",
    "    & (df.has_negative == 0) \n",
    "    & (df.has_past_future == 0)       \n",
    "    & (df.n_out_of_vocab == 2)][columns]\n",
    "    .head()\n",
    ")"
   ]
  },
  {
   "cell_type": "markdown",
   "metadata": {},
   "source": [
    "Для двух слов вне словаря видим ситуацию, аналогичную одному слову."
   ]
  },
  {
   "cell_type": "code",
   "execution_count": 20,
   "metadata": {},
   "outputs": [
    {
     "data": {
      "text/html": [
       "<div>\n",
       "<style scoped>\n",
       "    .dataframe tbody tr th:only-of-type {\n",
       "        vertical-align: middle;\n",
       "    }\n",
       "\n",
       "    .dataframe tbody tr th {\n",
       "        vertical-align: top;\n",
       "    }\n",
       "\n",
       "    .dataframe thead th {\n",
       "        text-align: right;\n",
       "    }\n",
       "</style>\n",
       "<table border=\"1\" class=\"dataframe\">\n",
       "  <thead>\n",
       "    <tr style=\"text-align: right;\">\n",
       "      <th></th>\n",
       "      <th>q61</th>\n",
       "      <th>corrected</th>\n",
       "      <th>n_out_of_vocab</th>\n",
       "      <th>n_words</th>\n",
       "      <th>n_verbs</th>\n",
       "      <th>has_negative</th>\n",
       "      <th>has_past_future</th>\n",
       "      <th>tokenized</th>\n",
       "      <th>normalized</th>\n",
       "    </tr>\n",
       "  </thead>\n",
       "  <tbody>\n",
       "    <tr>\n",
       "      <th>3619</th>\n",
       "      <td>Главный специалист в отделе по работе с персон...</td>\n",
       "      <td>главный специалист в отделе по работе с персон...</td>\n",
       "      <td>3</td>\n",
       "      <td>8</td>\n",
       "      <td>0</td>\n",
       "      <td>0</td>\n",
       "      <td>0</td>\n",
       "      <td>главный специалист отделе по работе персоналом</td>\n",
       "      <td>главный персонал специалист</td>\n",
       "    </tr>\n",
       "    <tr>\n",
       "      <th>6235</th>\n",
       "      <td>Представитель автошколы в ГАИ</td>\n",
       "      <td>представитель автошколы в гаи</td>\n",
       "      <td>3</td>\n",
       "      <td>4</td>\n",
       "      <td>0</td>\n",
       "      <td>0</td>\n",
       "      <td>0</td>\n",
       "      <td>представитель автошколы гаи</td>\n",
       "      <td>автошкола гаи представитель</td>\n",
       "    </tr>\n",
       "    <tr>\n",
       "      <th>7177</th>\n",
       "      <td>Слесарь по КИПиА</td>\n",
       "      <td>слесарь по контрольно-измерительные приборы и ...</td>\n",
       "      <td>3</td>\n",
       "      <td>6</td>\n",
       "      <td>0</td>\n",
       "      <td>0</td>\n",
       "      <td>0</td>\n",
       "      <td>слесарь по контрольно-измерительные приборы ав...</td>\n",
       "      <td>автоматика контрольно-измерительный прибор сле...</td>\n",
       "    </tr>\n",
       "    <tr>\n",
       "      <th>9043</th>\n",
       "      <td>Лаборант в научной лаборатории и уборщик в школе</td>\n",
       "      <td>лаборант в научной лаборатории и уборщик в школе</td>\n",
       "      <td>3</td>\n",
       "      <td>8</td>\n",
       "      <td>0</td>\n",
       "      <td>0</td>\n",
       "      <td>0</td>\n",
       "      <td>лаборант научной лаборатории уборщик школе</td>\n",
       "      <td>лаборант лаборатория научный уборщик</td>\n",
       "    </tr>\n",
       "    <tr>\n",
       "      <th>9778</th>\n",
       "      <td>Младшая медицинская сестра по уходу за больным...</td>\n",
       "      <td>младшая медицинская сестра по уходу за больным...</td>\n",
       "      <td>3</td>\n",
       "      <td>9</td>\n",
       "      <td>0</td>\n",
       "      <td>0</td>\n",
       "      <td>0</td>\n",
       "      <td>младшая медицинская сестра по уходу за больным...</td>\n",
       "      <td>больной инвалид медицинский младший сестра уход</td>\n",
       "    </tr>\n",
       "  </tbody>\n",
       "</table>\n",
       "</div>"
      ],
      "text/plain": [
       "                                                    q61  \\\n",
       "3619  Главный специалист в отделе по работе с персон...   \n",
       "6235                      Представитель автошколы в ГАИ   \n",
       "7177                                   Слесарь по КИПиА   \n",
       "9043   Лаборант в научной лаборатории и уборщик в школе   \n",
       "9778  Младшая медицинская сестра по уходу за больным...   \n",
       "\n",
       "                                              corrected  n_out_of_vocab  \\\n",
       "3619  главный специалист в отделе по работе с персон...               3   \n",
       "6235                      представитель автошколы в гаи               3   \n",
       "7177  слесарь по контрольно-измерительные приборы и ...               3   \n",
       "9043   лаборант в научной лаборатории и уборщик в школе               3   \n",
       "9778  младшая медицинская сестра по уходу за больным...               3   \n",
       "\n",
       "      n_words  n_verbs  has_negative  has_past_future  \\\n",
       "3619        8        0             0                0   \n",
       "6235        4        0             0                0   \n",
       "7177        6        0             0                0   \n",
       "9043        8        0             0                0   \n",
       "9778        9        0             0                0   \n",
       "\n",
       "                                              tokenized  \\\n",
       "3619     главный специалист отделе по работе персоналом   \n",
       "6235                        представитель автошколы гаи   \n",
       "7177  слесарь по контрольно-измерительные приборы ав...   \n",
       "9043         лаборант научной лаборатории уборщик школе   \n",
       "9778  младшая медицинская сестра по уходу за больным...   \n",
       "\n",
       "                                             normalized  \n",
       "3619                        главный персонал специалист  \n",
       "6235                        автошкола гаи представитель  \n",
       "7177  автоматика контрольно-измерительный прибор сле...  \n",
       "9043               лаборант лаборатория научный уборщик  \n",
       "9778    больной инвалид медицинский младший сестра уход  "
      ]
     },
     "execution_count": 20,
     "metadata": {},
     "output_type": "execute_result"
    }
   ],
   "source": [
    "(\n",
    "    df[~df.normalized.isna() \n",
    "    & (df.n_verbs == 0) \n",
    "    & (df.has_negative == 0) \n",
    "    & (df.has_past_future == 0)\n",
    "    & (df.n_out_of_vocab == 3)][columns]\n",
    "    .head()\n",
    ")"
   ]
  },
  {
   "cell_type": "markdown",
   "metadata": {},
   "source": [
    "Для трех слов вне словаря ответы становятся сложнее, содержат дополенния и уточнения. "
   ]
  },
  {
   "cell_type": "code",
   "execution_count": 21,
   "metadata": {},
   "outputs": [
    {
     "data": {
      "text/html": [
       "<div>\n",
       "<style scoped>\n",
       "    .dataframe tbody tr th:only-of-type {\n",
       "        vertical-align: middle;\n",
       "    }\n",
       "\n",
       "    .dataframe tbody tr th {\n",
       "        vertical-align: top;\n",
       "    }\n",
       "\n",
       "    .dataframe thead th {\n",
       "        text-align: right;\n",
       "    }\n",
       "</style>\n",
       "<table border=\"1\" class=\"dataframe\">\n",
       "  <thead>\n",
       "    <tr style=\"text-align: right;\">\n",
       "      <th></th>\n",
       "      <th>q61</th>\n",
       "      <th>corrected</th>\n",
       "      <th>n_out_of_vocab</th>\n",
       "      <th>n_words</th>\n",
       "      <th>n_verbs</th>\n",
       "      <th>has_negative</th>\n",
       "      <th>has_past_future</th>\n",
       "      <th>tokenized</th>\n",
       "      <th>normalized</th>\n",
       "    </tr>\n",
       "  </thead>\n",
       "  <tbody>\n",
       "    <tr>\n",
       "      <th>24129</th>\n",
       "      <td>Я ШКОЛЬНИК МНЕ 14 АЛО</td>\n",
       "      <td>я школьник мне 14 ало</td>\n",
       "      <td>4</td>\n",
       "      <td>5</td>\n",
       "      <td>0</td>\n",
       "      <td>0</td>\n",
       "      <td>0</td>\n",
       "      <td>школьник мне 14 ало</td>\n",
       "      <td>ало</td>\n",
       "    </tr>\n",
       "    <tr>\n",
       "      <th>24981</th>\n",
       "      <td>зам зав по ахр</td>\n",
       "      <td>зам зав по ахр</td>\n",
       "      <td>4</td>\n",
       "      <td>4</td>\n",
       "      <td>0</td>\n",
       "      <td>0</td>\n",
       "      <td>0</td>\n",
       "      <td>зам зав по ахр</td>\n",
       "      <td>ахра зав зам</td>\n",
       "    </tr>\n",
       "    <tr>\n",
       "      <th>25039</th>\n",
       "      <td>продавцом, мастером по роботам пылесосам, по ...</td>\n",
       "      <td>продавцом мастером по работам пылесосам, по пы...</td>\n",
       "      <td>9</td>\n",
       "      <td>17</td>\n",
       "      <td>0</td>\n",
       "      <td>0</td>\n",
       "      <td>0</td>\n",
       "      <td>продавцом мастером по работам пылесосам по пыл...</td>\n",
       "      <td>бытовой мастер машина мелкий посудомоечный про...</td>\n",
       "    </tr>\n",
       "    <tr>\n",
       "      <th>28994</th>\n",
       "      <td>Автор и создатель клуба для м и ж</td>\n",
       "      <td>автор и создатель клуба для м и ж</td>\n",
       "      <td>5</td>\n",
       "      <td>8</td>\n",
       "      <td>0</td>\n",
       "      <td>0</td>\n",
       "      <td>0</td>\n",
       "      <td>автор создатель клуба для</td>\n",
       "      <td>автор клуб создатель</td>\n",
       "    </tr>\n",
       "    <tr>\n",
       "      <th>40161</th>\n",
       "      <td>Шадоуфинд гуль ссс ранга zxc 1000-7</td>\n",
       "      <td>шадоуфинд гуль ссс ранга zxc 1000-7</td>\n",
       "      <td>4</td>\n",
       "      <td>6</td>\n",
       "      <td>0</td>\n",
       "      <td>0</td>\n",
       "      <td>0</td>\n",
       "      <td>шадоуфинд гуль ссс ранга zxc 1000-7</td>\n",
       "      <td>гуля ранг шадоуфинда</td>\n",
       "    </tr>\n",
       "  </tbody>\n",
       "</table>\n",
       "</div>"
      ],
      "text/plain": [
       "                                                     q61  \\\n",
       "24129                              Я ШКОЛЬНИК МНЕ 14 АЛО   \n",
       "24981                                     зам зав по ахр   \n",
       "25039   продавцом, мастером по роботам пылесосам, по ...   \n",
       "28994                  Автор и создатель клуба для м и ж   \n",
       "40161                Шадоуфинд гуль ссс ранга zxc 1000-7   \n",
       "\n",
       "                                               corrected  n_out_of_vocab  \\\n",
       "24129                              я школьник мне 14 ало               4   \n",
       "24981                                     зам зав по ахр               4   \n",
       "25039  продавцом мастером по работам пылесосам, по пы...               9   \n",
       "28994                  автор и создатель клуба для м и ж               5   \n",
       "40161                шадоуфинд гуль ссс ранга zxc 1000-7               4   \n",
       "\n",
       "       n_words  n_verbs  has_negative  has_past_future  \\\n",
       "24129        5        0             0                0   \n",
       "24981        4        0             0                0   \n",
       "25039       17        0             0                0   \n",
       "28994        8        0             0                0   \n",
       "40161        6        0             0                0   \n",
       "\n",
       "                                               tokenized  \\\n",
       "24129                                школьник мне 14 ало   \n",
       "24981                                     зам зав по ахр   \n",
       "25039  продавцом мастером по работам пылесосам по пыл...   \n",
       "28994                          автор создатель клуба для   \n",
       "40161                шадоуфинд гуль ссс ранга zxc 1000-7   \n",
       "\n",
       "                                              normalized  \n",
       "24129                                                ало  \n",
       "24981                                       ахра зав зам  \n",
       "25039  бытовой мастер машина мелкий посудомоечный про...  \n",
       "28994                               автор клуб создатель  \n",
       "40161                               гуля ранг шадоуфинда  "
      ]
     },
     "execution_count": 21,
     "metadata": {},
     "output_type": "execute_result"
    }
   ],
   "source": [
    "(\n",
    "    df[~df.normalized.isna() \n",
    "    & (df.n_verbs == 0) \n",
    "    & (df.has_negative == 0) \n",
    "    & (df.has_past_future == 0)\n",
    "    & (df.n_out_of_vocab > 3)][columns]\n",
    "    .head()\n",
    ")"
   ]
  },
  {
   "cell_type": "markdown",
   "metadata": {},
   "source": [
    "Начаиня с 4 слов вне словаря ответы начинаю быть менее осмысленные или явно не подходящие. "
   ]
  },
  {
   "cell_type": "markdown",
   "metadata": {},
   "source": [
    "### Количество слов в ответе"
   ]
  },
  {
   "cell_type": "code",
   "execution_count": 22,
   "metadata": {},
   "outputs": [
    {
     "data": {
      "image/png": "[encoded data removed]",
      "text/plain": [
       "<Figure size 720x360 with 1 Axes>"
      ]
     },
     "metadata": {
      "image/png": {
       "height": 331,
       "width": 610
      },
      "needs_background": "light"
     },
     "output_type": "display_data"
    }
   ],
   "source": [
    "plot_data = df[~df.normalized.isna() \n",
    "               & (df.n_verbs == 0) \n",
    "               & (df.has_negative == 0) \n",
    "               & (df.has_past_future == 0)\n",
    "              ].n_words.value_counts().reset_index().sort_values(by='index')\n",
    "plt.figure(figsize=(10,5))\n",
    "plt.bar(x=plot_data['index'], height=plot_data['n_words'], log=True)\n",
    "plt.grid(visible=True)\n",
    "plt.xlabel('Количество слов в ответе')\n",
    "plt.ylabel('Количество объектов')\n",
    "plt.title('Количество слов в ответах')\n",
    "plt.show()"
   ]
  },
  {
   "cell_type": "code",
   "execution_count": 23,
   "metadata": {},
   "outputs": [
    {
     "data": {
      "text/html": [
       "<div>\n",
       "<style scoped>\n",
       "    .dataframe tbody tr th:only-of-type {\n",
       "        vertical-align: middle;\n",
       "    }\n",
       "\n",
       "    .dataframe tbody tr th {\n",
       "        vertical-align: top;\n",
       "    }\n",
       "\n",
       "    .dataframe thead th {\n",
       "        text-align: right;\n",
       "    }\n",
       "</style>\n",
       "<table border=\"1\" class=\"dataframe\">\n",
       "  <thead>\n",
       "    <tr style=\"text-align: right;\">\n",
       "      <th></th>\n",
       "      <th>q61</th>\n",
       "      <th>corrected</th>\n",
       "      <th>n_out_of_vocab</th>\n",
       "      <th>n_words</th>\n",
       "      <th>n_verbs</th>\n",
       "      <th>has_negative</th>\n",
       "      <th>has_past_future</th>\n",
       "      <th>tokenized</th>\n",
       "      <th>normalized</th>\n",
       "    </tr>\n",
       "  </thead>\n",
       "  <tbody>\n",
       "    <tr>\n",
       "      <th>5509</th>\n",
       "      <td>Учитель музыки в школе  музыкальный руководите...</td>\n",
       "      <td>учитель музыки в школе музыкальный руководител...</td>\n",
       "      <td>2</td>\n",
       "      <td>9</td>\n",
       "      <td>0</td>\n",
       "      <td>0</td>\n",
       "      <td>0</td>\n",
       "      <td>учитель музыки школе музыкальный руководитель ...</td>\n",
       "      <td>детский музыка музыкальный руководитель сад уч...</td>\n",
       "    </tr>\n",
       "    <tr>\n",
       "      <th>9778</th>\n",
       "      <td>Младшая медицинская сестра по уходу за больным...</td>\n",
       "      <td>младшая медицинская сестра по уходу за больным...</td>\n",
       "      <td>3</td>\n",
       "      <td>9</td>\n",
       "      <td>0</td>\n",
       "      <td>0</td>\n",
       "      <td>0</td>\n",
       "      <td>младшая медицинская сестра по уходу за больным...</td>\n",
       "      <td>больной инвалид медицинский младший сестра уход</td>\n",
       "    </tr>\n",
       "    <tr>\n",
       "      <th>17180</th>\n",
       "      <td>Машинист насосной станции по закачке рабочего ...</td>\n",
       "      <td>машинист насосной станции по закалке рабочего ...</td>\n",
       "      <td>3</td>\n",
       "      <td>11</td>\n",
       "      <td>0</td>\n",
       "      <td>0</td>\n",
       "      <td>0</td>\n",
       "      <td>машинист насосной станции по закалке рабочего ...</td>\n",
       "      <td>агент закалка машинист насосный пласт рабочий ...</td>\n",
       "    </tr>\n",
       "    <tr>\n",
       "      <th>23998</th>\n",
       "      <td>руководитель направления по операционному серв...</td>\n",
       "      <td>руководитель направления по операционному серв...</td>\n",
       "      <td>3</td>\n",
       "      <td>9</td>\n",
       "      <td>0</td>\n",
       "      <td>0</td>\n",
       "      <td>0</td>\n",
       "      <td>руководитель направления по операционному серв...</td>\n",
       "      <td>банк качество направление операционный руковод...</td>\n",
       "    </tr>\n",
       "    <tr>\n",
       "      <th>25039</th>\n",
       "      <td>продавцом, мастером по роботам пылесосам, по ...</td>\n",
       "      <td>продавцом мастером по работам пылесосам, по пы...</td>\n",
       "      <td>9</td>\n",
       "      <td>17</td>\n",
       "      <td>0</td>\n",
       "      <td>0</td>\n",
       "      <td>0</td>\n",
       "      <td>продавцом мастером по работам пылесосам по пыл...</td>\n",
       "      <td>бытовой мастер машина мелкий посудомоечный про...</td>\n",
       "    </tr>\n",
       "  </tbody>\n",
       "</table>\n",
       "</div>"
      ],
      "text/plain": [
       "                                                     q61  \\\n",
       "5509   Учитель музыки в школе  музыкальный руководите...   \n",
       "9778   Младшая медицинская сестра по уходу за больным...   \n",
       "17180  Машинист насосной станции по закачке рабочего ...   \n",
       "23998  руководитель направления по операционному серв...   \n",
       "25039   продавцом, мастером по роботам пылесосам, по ...   \n",
       "\n",
       "                                               corrected  n_out_of_vocab  \\\n",
       "5509   учитель музыки в школе музыкальный руководител...               2   \n",
       "9778   младшая медицинская сестра по уходу за больным...               3   \n",
       "17180  машинист насосной станции по закалке рабочего ...               3   \n",
       "23998  руководитель направления по операционному серв...               3   \n",
       "25039  продавцом мастером по работам пылесосам, по пы...               9   \n",
       "\n",
       "       n_words  n_verbs  has_negative  has_past_future  \\\n",
       "5509         9        0             0                0   \n",
       "9778         9        0             0                0   \n",
       "17180       11        0             0                0   \n",
       "23998        9        0             0                0   \n",
       "25039       17        0             0                0   \n",
       "\n",
       "                                               tokenized  \\\n",
       "5509   учитель музыки школе музыкальный руководитель ...   \n",
       "9778   младшая медицинская сестра по уходу за больным...   \n",
       "17180  машинист насосной станции по закалке рабочего ...   \n",
       "23998  руководитель направления по операционному серв...   \n",
       "25039  продавцом мастером по работам пылесосам по пыл...   \n",
       "\n",
       "                                              normalized  \n",
       "5509   детский музыка музыкальный руководитель сад уч...  \n",
       "9778     больной инвалид медицинский младший сестра уход  \n",
       "17180  агент закалка машинист насосный пласт рабочий ...  \n",
       "23998  банк качество направление операционный руковод...  \n",
       "25039  бытовой мастер машина мелкий посудомоечный про...  "
      ]
     },
     "execution_count": 23,
     "metadata": {},
     "output_type": "execute_result"
    }
   ],
   "source": [
    "df[~df.normalized.isna() \n",
    "   & (df.n_verbs == 0) \n",
    "   & (df.has_negative == 0)\n",
    "   & (df.has_past_future == 0)\n",
    "   & (df.n_words > 8)][columns].head()"
   ]
  },
  {
   "cell_type": "markdown",
   "metadata": {},
   "source": [
    "Ответы с большим количеством слов характерны для подробного описания профессии. "
   ]
  },
  {
   "cell_type": "code",
   "execution_count": 38,
   "metadata": {},
   "outputs": [],
   "source": [
    "df.to_csv('../datasets/intermediate/df_is_profession.csv', index=False)"
   ]
  },
  {
   "cell_type": "markdown",
   "metadata": {},
   "source": [
    "### Выводы"
   ]
  },
  {
   "cell_type": "markdown",
   "metadata": {},
   "source": [
    "Выделенные из ответов признаки позволяют сделать предположение о том, является ли ответ профессией.\n",
    "\n",
    "Если в ответе:\n",
    "- нет нормализованных токенов\n",
    "- есть глаголы\n",
    "- есть отрицания\n",
    "- есть упоминание прошлого или будущего\n",
    "- 4 и более слов вне словаря профессий\n",
    "такой ответ не является профессией."
   ]
  },
  {
   "cell_type": "markdown",
   "metadata": {},
   "source": [
    "## Анализ ответов с профессиями"
   ]
  },
  {
   "cell_type": "markdown",
   "metadata": {},
   "source": [
    "### Сравнение ответов с профессиями и не профессиями"
   ]
  },
  {
   "cell_type": "markdown",
   "metadata": {},
   "source": [
    "Добавим признак \"профессия\" к датасету."
   ]
  },
  {
   "cell_type": "code",
   "execution_count": 24,
   "metadata": {},
   "outputs": [],
   "source": [
    "df['is_profession'] = (~df.normalized.isna()\\\n",
    "                       & (df.n_verbs == 0)\\\n",
    "                       & (df.has_negative == 0)\\\n",
    "                       & (df.has_past_future == 0)\\\n",
    "                       & (df.n_out_of_vocab < 4))"
   ]
  },
  {
   "cell_type": "code",
   "execution_count": 25,
   "metadata": {},
   "outputs": [
    {
     "data": {
      "text/html": [
       "<div>\n",
       "<style scoped>\n",
       "    .dataframe tbody tr th:only-of-type {\n",
       "        vertical-align: middle;\n",
       "    }\n",
       "\n",
       "    .dataframe tbody tr th {\n",
       "        vertical-align: top;\n",
       "    }\n",
       "\n",
       "    .dataframe thead th {\n",
       "        text-align: right;\n",
       "    }\n",
       "</style>\n",
       "<table border=\"1\" class=\"dataframe\">\n",
       "  <thead>\n",
       "    <tr style=\"text-align: right;\">\n",
       "      <th></th>\n",
       "      <th>q61</th>\n",
       "      <th>corrected</th>\n",
       "      <th>n_out_of_vocab</th>\n",
       "      <th>n_words</th>\n",
       "      <th>n_verbs</th>\n",
       "      <th>has_negative</th>\n",
       "      <th>has_past_future</th>\n",
       "      <th>tokenized</th>\n",
       "      <th>normalized</th>\n",
       "    </tr>\n",
       "  </thead>\n",
       "  <tbody>\n",
       "    <tr>\n",
       "      <th>1</th>\n",
       "      <td>Данный момент не работаю</td>\n",
       "      <td>данный момент не работаю</td>\n",
       "      <td>1</td>\n",
       "      <td>4</td>\n",
       "      <td>1</td>\n",
       "      <td>1</td>\n",
       "      <td>0</td>\n",
       "      <td>данный момент не работаю</td>\n",
       "      <td>данный момент</td>\n",
       "    </tr>\n",
       "    <tr>\n",
       "      <th>3</th>\n",
       "      <td>никем</td>\n",
       "      <td>никем</td>\n",
       "      <td>0</td>\n",
       "      <td>1</td>\n",
       "      <td>0</td>\n",
       "      <td>1</td>\n",
       "      <td>0</td>\n",
       "      <td>никем</td>\n",
       "      <td>NaN</td>\n",
       "    </tr>\n",
       "    <tr>\n",
       "      <th>4</th>\n",
       "      <td>я школьник</td>\n",
       "      <td>я школьник</td>\n",
       "      <td>1</td>\n",
       "      <td>2</td>\n",
       "      <td>0</td>\n",
       "      <td>0</td>\n",
       "      <td>0</td>\n",
       "      <td>школьник</td>\n",
       "      <td>NaN</td>\n",
       "    </tr>\n",
       "    <tr>\n",
       "      <th>5</th>\n",
       "      <td>Никем</td>\n",
       "      <td>никем</td>\n",
       "      <td>0</td>\n",
       "      <td>1</td>\n",
       "      <td>0</td>\n",
       "      <td>1</td>\n",
       "      <td>0</td>\n",
       "      <td>никем</td>\n",
       "      <td>NaN</td>\n",
       "    </tr>\n",
       "    <tr>\n",
       "      <th>8</th>\n",
       "      <td>никнм</td>\n",
       "      <td>никем</td>\n",
       "      <td>0</td>\n",
       "      <td>1</td>\n",
       "      <td>0</td>\n",
       "      <td>1</td>\n",
       "      <td>0</td>\n",
       "      <td>никем</td>\n",
       "      <td>NaN</td>\n",
       "    </tr>\n",
       "  </tbody>\n",
       "</table>\n",
       "</div>"
      ],
      "text/plain": [
       "                         q61                 corrected  n_out_of_vocab  \\\n",
       "1  Данный момент не работаю   данный момент не работаю               1   \n",
       "3                      никем                     никем               0   \n",
       "4                 я школьник                я школьник               1   \n",
       "5                     Никем                      никем               0   \n",
       "8                      никнм                     никем               0   \n",
       "\n",
       "   n_words  n_verbs  has_negative  has_past_future                 tokenized  \\\n",
       "1        4        1             1                0  данный момент не работаю   \n",
       "3        1        0             1                0                     никем   \n",
       "4        2        0             0                0                  школьник   \n",
       "5        1        0             1                0                     никем   \n",
       "8        1        0             1                0                     никем   \n",
       "\n",
       "      normalized  \n",
       "1  данный момент  \n",
       "3            NaN  \n",
       "4            NaN  \n",
       "5            NaN  \n",
       "8            NaN  "
      ]
     },
     "execution_count": 25,
     "metadata": {},
     "output_type": "execute_result"
    }
   ],
   "source": [
    "df[~df.is_profession][columns].head()"
   ]
  },
  {
   "cell_type": "code",
   "execution_count": 26,
   "metadata": {},
   "outputs": [
    {
     "data": {
      "text/html": [
       "<div>\n",
       "<style scoped>\n",
       "    .dataframe tbody tr th:only-of-type {\n",
       "        vertical-align: middle;\n",
       "    }\n",
       "\n",
       "    .dataframe tbody tr th {\n",
       "        vertical-align: top;\n",
       "    }\n",
       "\n",
       "    .dataframe thead th {\n",
       "        text-align: right;\n",
       "    }\n",
       "</style>\n",
       "<table border=\"1\" class=\"dataframe\">\n",
       "  <thead>\n",
       "    <tr style=\"text-align: right;\">\n",
       "      <th></th>\n",
       "      <th>q61</th>\n",
       "      <th>corrected</th>\n",
       "      <th>n_out_of_vocab</th>\n",
       "      <th>n_words</th>\n",
       "      <th>n_verbs</th>\n",
       "      <th>has_negative</th>\n",
       "      <th>has_past_future</th>\n",
       "      <th>tokenized</th>\n",
       "      <th>normalized</th>\n",
       "    </tr>\n",
       "  </thead>\n",
       "  <tbody>\n",
       "    <tr>\n",
       "      <th>0</th>\n",
       "      <td>экономист</td>\n",
       "      <td>экономист</td>\n",
       "      <td>0</td>\n",
       "      <td>1</td>\n",
       "      <td>0</td>\n",
       "      <td>0</td>\n",
       "      <td>0</td>\n",
       "      <td>экономист</td>\n",
       "      <td>экономист</td>\n",
       "    </tr>\n",
       "    <tr>\n",
       "      <th>2</th>\n",
       "      <td>Учитель</td>\n",
       "      <td>учитель</td>\n",
       "      <td>0</td>\n",
       "      <td>1</td>\n",
       "      <td>0</td>\n",
       "      <td>0</td>\n",
       "      <td>0</td>\n",
       "      <td>учитель</td>\n",
       "      <td>учитель</td>\n",
       "    </tr>\n",
       "    <tr>\n",
       "      <th>6</th>\n",
       "      <td>рекламист</td>\n",
       "      <td>рекламы</td>\n",
       "      <td>0</td>\n",
       "      <td>1</td>\n",
       "      <td>0</td>\n",
       "      <td>0</td>\n",
       "      <td>0</td>\n",
       "      <td>рекламы</td>\n",
       "      <td>реклама</td>\n",
       "    </tr>\n",
       "    <tr>\n",
       "      <th>7</th>\n",
       "      <td>Руководитель участка</td>\n",
       "      <td>руководитель участка</td>\n",
       "      <td>0</td>\n",
       "      <td>2</td>\n",
       "      <td>0</td>\n",
       "      <td>0</td>\n",
       "      <td>0</td>\n",
       "      <td>руководитель участка</td>\n",
       "      <td>руководитель</td>\n",
       "    </tr>\n",
       "    <tr>\n",
       "      <th>11</th>\n",
       "      <td>Повар</td>\n",
       "      <td>повар</td>\n",
       "      <td>0</td>\n",
       "      <td>1</td>\n",
       "      <td>0</td>\n",
       "      <td>0</td>\n",
       "      <td>0</td>\n",
       "      <td>повар</td>\n",
       "      <td>повар</td>\n",
       "    </tr>\n",
       "  </tbody>\n",
       "</table>\n",
       "</div>"
      ],
      "text/plain": [
       "                     q61             corrected  n_out_of_vocab  n_words  \\\n",
       "0              экономист             экономист               0        1   \n",
       "2                Учитель               учитель               0        1   \n",
       "6              рекламист               рекламы               0        1   \n",
       "7   Руководитель участка  руководитель участка               0        2   \n",
       "11                 Повар                 повар               0        1   \n",
       "\n",
       "    n_verbs  has_negative  has_past_future             tokenized    normalized  \n",
       "0         0             0                0             экономист     экономист  \n",
       "2         0             0                0               учитель       учитель  \n",
       "6         0             0                0               рекламы       реклама  \n",
       "7         0             0                0  руководитель участка  руководитель  \n",
       "11        0             0                0                 повар         повар  "
      ]
     },
     "execution_count": 26,
     "metadata": {},
     "output_type": "execute_result"
    }
   ],
   "source": [
    "df[df.is_profession][columns].head()"
   ]
  },
  {
   "cell_type": "markdown",
   "metadata": {},
   "source": [
    "Визуально разделение выглядит корректным."
   ]
  },
  {
   "cell_type": "code",
   "execution_count": 27,
   "metadata": {
    "scrolled": true
   },
   "outputs": [
    {
     "data": {
      "image/png": "[encoded data removed]",
      "text/plain": [
       "<Figure size 432x288 with 1 Axes>"
      ]
     },
     "metadata": {
      "image/png": {
       "height": 248,
       "width": 388
      },
      "needs_background": "light"
     },
     "output_type": "display_data"
    }
   ],
   "source": [
    "df.is_profession.astype('int').hist()\n",
    "plt.show()"
   ]
  },
  {
   "cell_type": "markdown",
   "metadata": {},
   "source": [
    "Чуть менее половины ответов не относится к профессиям."
   ]
  },
  {
   "cell_type": "code",
   "execution_count": 28,
   "metadata": {},
   "outputs": [
    {
     "data": {
      "image/png": "[encoded data removed]",
      "text/plain": [
       "<Figure size 720x360 with 2 Axes>"
      ]
     },
     "metadata": {
      "image/png": {
       "height": 343,
       "width": 619
      },
      "needs_background": "light"
     },
     "output_type": "display_data"
    }
   ],
   "source": [
    "df.boxplot(column=['t61', 't62'], by='is_profession', figsize=(10,5))\n",
    "plt.ylim(0, 20)\n",
    "plt.show()"
   ]
  },
  {
   "cell_type": "markdown",
   "metadata": {},
   "source": [
    "Время ответа на вопрос \"Кем ты работаешь\" (t61) и \"Позволяет ли работа тебе самореализоваться?\" (t62) слабо зависит от того, работает респондент сейчас или нет. "
   ]
  },
  {
   "cell_type": "code",
   "execution_count": 29,
   "metadata": {},
   "outputs": [
    {
     "data": {
      "text/plain": [
       "<AxesSubplot:>"
      ]
     },
     "execution_count": 29,
     "metadata": {},
     "output_type": "execute_result"
    },
    {
     "data": {
      "image/png": "[encoded data removed]",
      "text/plain": [
       "<Figure size 432x288 with 1 Axes>"
      ]
     },
     "metadata": {
      "image/png": {
       "height": 248,
       "width": 388
      },
      "needs_background": "light"
     },
     "output_type": "display_data"
    }
   ],
   "source": [
    "df[df.is_profession].q62.hist(bins=3)"
   ]
  },
  {
   "cell_type": "code",
   "execution_count": 30,
   "metadata": {},
   "outputs": [
    {
     "data": {
      "text/plain": [
       "<AxesSubplot:>"
      ]
     },
     "execution_count": 30,
     "metadata": {},
     "output_type": "execute_result"
    },
    {
     "data": {
      "image/png": "[encoded data removed]",
      "text/plain": [
       "<Figure size 432x288 with 1 Axes>"
      ]
     },
     "metadata": {
      "image/png": {
       "height": 248,
       "width": 388
      },
      "needs_background": "light"
     },
     "output_type": "display_data"
    }
   ],
   "source": [
    "df[~df.is_profession].q62.hist(bins=3)"
   ]
  },
  {
   "cell_type": "markdown",
   "metadata": {},
   "source": [
    "Распределения ответов на вопрос \"Позволяет ли работа тебе самореализоваться?\" (q62) для работающих и не работающих противоположные: среди работающих большинство может реализоваться, среди неработающих наоборот."
   ]
  },
  {
   "cell_type": "markdown",
   "metadata": {},
   "source": [
    "### Количество уникальных значений токенов"
   ]
  },
  {
   "cell_type": "code",
   "execution_count": 31,
   "metadata": {},
   "outputs": [],
   "source": [
    "professions = df[df.is_profession]"
   ]
  },
  {
   "cell_type": "code",
   "execution_count": 32,
   "metadata": {},
   "outputs": [],
   "source": [
    "source_distribution = professions.q61.str.lower().value_counts().reset_index()"
   ]
  },
  {
   "cell_type": "code",
   "execution_count": 33,
   "metadata": {},
   "outputs": [],
   "source": [
    "target_distribution = professions.normalized.value_counts().reset_index()"
   ]
  },
  {
   "cell_type": "code",
   "execution_count": 34,
   "metadata": {},
   "outputs": [
    {
     "name": "stdout",
     "output_type": "stream",
     "text": [
      "Уникальных значений в исходных ответах с профессиями 12885\n",
      "Уникальных значений нормализованных токенов 7448\n"
     ]
    }
   ],
   "source": [
    "print('Уникальных значений в исходных ответах с профессиями', len(source_distribution))\n",
    "print('Уникальных значений нормализованных токенов', len(target_distribution))"
   ]
  },
  {
   "cell_type": "code",
   "execution_count": 36,
   "metadata": {},
   "outputs": [
    {
     "data": {
      "image/png": "[encoded data removed]",
      "text/plain": [
       "<Figure size 720x360 with 1 Axes>"
      ]
     },
     "metadata": {
      "image/png": {
       "height": 333,
       "width": 610
      },
      "needs_background": "light"
     },
     "output_type": "display_data"
    }
   ],
   "source": [
    "plt.figure(figsize=(10,5))\n",
    "plt.yscale('log')\n",
    "plt.xscale('log')\n",
    "plt.axhline(300, c='g', label='300 объектов')\n",
    "plt.plot(source_distribution.index, source_distribution['q61'], label='Source', lw=3)\n",
    "plt.plot(target_distribution.index, target_distribution['normalized'], label='Normalized', lw=3)\n",
    "plt.ylabel('Количество объектов')\n",
    "plt.xlabel('Порядковый номер уникальной фразы')\n",
    "plt.title('Количество уникальных значений профессии'.upper())\n",
    "plt.legend()\n",
    "plt.grid(visible=True)\n",
    "plt.show()"
   ]
  },
  {
   "cell_type": "markdown",
   "metadata": {},
   "source": [
    "Нормализация увеличила количество профессий, для который есть более 300 объектов."
   ]
  },
  {
   "cell_type": "markdown",
   "metadata": {},
   "source": [
    "## Вывод"
   ]
  },
  {
   "cell_type": "markdown",
   "metadata": {},
   "source": [
    "Мы определили правла для бинарной классификации ответов \"профессия\" или \"не профессия\".\n",
    "\n",
    "Убедились, что нормализация токенов увеличила количество профессий, для которых колчиесвто объектов большее 300."
   ]
  }
 ],
 "metadata": {
  "kernelspec": {
   "display_name": "Python 3 (ipykernel)",
   "language": "python",
   "name": "python3"
  },
  "language_info": {
   "codemirror_mode": {
    "name": "ipython",
    "version": 3
   },
   "file_extension": ".py",
   "mimetype": "text/x-python",
   "name": "python",
   "nbconvert_exporter": "python",
   "pygments_lexer": "ipython3",
   "version": "3.9.12"
  },
  "toc": {
   "base_numbering": 1,
   "nav_menu": {},
   "number_sections": true,
   "sideBar": true,
   "skip_h1_title": true,
   "title_cell": "Table of Contents",
   "title_sidebar": "Contents",
   "toc_cell": false,
   "toc_position": {},
   "toc_section_display": true,
   "toc_window_display": true
  },
  "vscode": {
   "interpreter": {
    "hash": "ac6f7dda0a387060d6c296a1a992241c48e02a04b69f2209e2d27f192d44adcf"
   }
  }
 },
 "nbformat": 4,
 "nbformat_minor": 2
}
